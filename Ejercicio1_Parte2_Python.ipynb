{
 "cells": [
  {
   "cell_type": "markdown",
   "metadata": {},
   "source": [
    "# Ejercicio 1, parte 2. (SelectKBest)"
   ]
  },
  {
   "cell_type": "code",
   "execution_count": 1,
   "metadata": {},
   "outputs": [],
   "source": [
    "import numpy as np\n",
    "import pandas as pd\n",
    "from sklearn.feature_selection import SelectKBest"
   ]
  },
  {
   "cell_type": "markdown",
   "metadata": {},
   "source": [
    "Iniciamos cargando los datos, deshaciéndonos de la columna de número de renglón y separando a TIPO PACIENTE del resto de las covariables. "
   ]
  },
  {
   "cell_type": "code",
   "execution_count": 2,
   "metadata": {},
   "outputs": [],
   "source": [
    "X = pd.read_csv('covid.csv')\n",
    "X.pop(\"Unnamed: 0\")\n",
    "y = X.pop(\"TIPO PACIENTE\")"
   ]
  },
  {
   "cell_type": "code",
   "execution_count": 3,
   "metadata": {},
   "outputs": [
    {
     "data": {
      "text/html": [
       "<div>\n",
       "<style scoped>\n",
       "    .dataframe tbody tr th:only-of-type {\n",
       "        vertical-align: middle;\n",
       "    }\n",
       "\n",
       "    .dataframe tbody tr th {\n",
       "        vertical-align: top;\n",
       "    }\n",
       "\n",
       "    .dataframe thead th {\n",
       "        text-align: right;\n",
       "    }\n",
       "</style>\n",
       "<table border=\"1\" class=\"dataframe\">\n",
       "  <thead>\n",
       "    <tr style=\"text-align: right;\">\n",
       "      <th></th>\n",
       "      <th>SEXO</th>\n",
       "      <th>OBESIDAD</th>\n",
       "      <th>DIABETES</th>\n",
       "      <th>EPOC</th>\n",
       "      <th>ASMA</th>\n",
       "      <th>CARDIOVASCULAR</th>\n",
       "      <th>RENAL CRONICA</th>\n",
       "      <th>INMUNOSUPRESION</th>\n",
       "      <th>HIPERTENSION</th>\n",
       "      <th>EDAD</th>\n",
       "    </tr>\n",
       "  </thead>\n",
       "  <tbody>\n",
       "    <tr>\n",
       "      <th>0</th>\n",
       "      <td>MUJER</td>\n",
       "      <td>NO</td>\n",
       "      <td>NO</td>\n",
       "      <td>NO</td>\n",
       "      <td>NO</td>\n",
       "      <td>NO</td>\n",
       "      <td>NO</td>\n",
       "      <td>NO</td>\n",
       "      <td>NO</td>\n",
       "      <td>51</td>\n",
       "    </tr>\n",
       "    <tr>\n",
       "      <th>1</th>\n",
       "      <td>MUJER</td>\n",
       "      <td>NO</td>\n",
       "      <td>NO</td>\n",
       "      <td>NO</td>\n",
       "      <td>NO</td>\n",
       "      <td>NO</td>\n",
       "      <td>NO</td>\n",
       "      <td>NO</td>\n",
       "      <td>NO</td>\n",
       "      <td>37</td>\n",
       "    </tr>\n",
       "  </tbody>\n",
       "</table>\n",
       "</div>"
      ],
      "text/plain": [
       "    SEXO OBESIDAD DIABETES EPOC ASMA CARDIOVASCULAR RENAL CRONICA  \\\n",
       "0  MUJER       NO       NO   NO   NO             NO            NO   \n",
       "1  MUJER       NO       NO   NO   NO             NO            NO   \n",
       "\n",
       "  INMUNOSUPRESION HIPERTENSION  EDAD  \n",
       "0              NO           NO    51  \n",
       "1              NO           NO    37  "
      ]
     },
     "execution_count": 3,
     "metadata": {},
     "output_type": "execute_result"
    }
   ],
   "source": [
    "X.head(2)"
   ]
  },
  {
   "cell_type": "markdown",
   "metadata": {},
   "source": [
    "Ahora, para que SelectKBest funcione, necesitamos que en nuestro dataframe haya números, no etiquetas."
   ]
  },
  {
   "cell_type": "code",
   "execution_count": 4,
   "metadata": {},
   "outputs": [],
   "source": [
    "for x in X.columns[:-1]:\n",
    "    if not (type(X[x][0]) == int):\n",
    "        vals = np.unique(X[x])\n",
    "        X = X.replace(to_replace=vals, value=range(0,len(vals)))"
   ]
  },
  {
   "cell_type": "code",
   "execution_count": 5,
   "metadata": {},
   "outputs": [
    {
     "data": {
      "text/html": [
       "<div>\n",
       "<style scoped>\n",
       "    .dataframe tbody tr th:only-of-type {\n",
       "        vertical-align: middle;\n",
       "    }\n",
       "\n",
       "    .dataframe tbody tr th {\n",
       "        vertical-align: top;\n",
       "    }\n",
       "\n",
       "    .dataframe thead th {\n",
       "        text-align: right;\n",
       "    }\n",
       "</style>\n",
       "<table border=\"1\" class=\"dataframe\">\n",
       "  <thead>\n",
       "    <tr style=\"text-align: right;\">\n",
       "      <th></th>\n",
       "      <th>SEXO</th>\n",
       "      <th>OBESIDAD</th>\n",
       "      <th>DIABETES</th>\n",
       "      <th>EPOC</th>\n",
       "      <th>ASMA</th>\n",
       "      <th>CARDIOVASCULAR</th>\n",
       "      <th>RENAL CRONICA</th>\n",
       "      <th>INMUNOSUPRESION</th>\n",
       "      <th>HIPERTENSION</th>\n",
       "      <th>EDAD</th>\n",
       "    </tr>\n",
       "  </thead>\n",
       "  <tbody>\n",
       "    <tr>\n",
       "      <th>0</th>\n",
       "      <td>1</td>\n",
       "      <td>0</td>\n",
       "      <td>0</td>\n",
       "      <td>0</td>\n",
       "      <td>0</td>\n",
       "      <td>0</td>\n",
       "      <td>0</td>\n",
       "      <td>0</td>\n",
       "      <td>0</td>\n",
       "      <td>51</td>\n",
       "    </tr>\n",
       "    <tr>\n",
       "      <th>1</th>\n",
       "      <td>1</td>\n",
       "      <td>0</td>\n",
       "      <td>0</td>\n",
       "      <td>0</td>\n",
       "      <td>0</td>\n",
       "      <td>0</td>\n",
       "      <td>0</td>\n",
       "      <td>0</td>\n",
       "      <td>0</td>\n",
       "      <td>37</td>\n",
       "    </tr>\n",
       "  </tbody>\n",
       "</table>\n",
       "</div>"
      ],
      "text/plain": [
       "   SEXO  OBESIDAD  DIABETES  EPOC  ASMA  CARDIOVASCULAR  RENAL CRONICA  \\\n",
       "0     1         0         0     0     0               0              0   \n",
       "1     1         0         0     0     0               0              0   \n",
       "\n",
       "   INMUNOSUPRESION  HIPERTENSION  EDAD  \n",
       "0                0             0    51  \n",
       "1                0             0    37  "
      ]
     },
     "execution_count": 5,
     "metadata": {},
     "output_type": "execute_result"
    }
   ],
   "source": [
    "X.head(2)"
   ]
  },
  {
   "cell_type": "markdown",
   "metadata": {},
   "source": [
    "Ya teniendo esto, podemos proceder a ejecutar SelectKBest, para eliminar dos variables:"
   ]
  },
  {
   "cell_type": "code",
   "execution_count": 6,
   "metadata": {},
   "outputs": [],
   "source": [
    "skb = SelectKBest(k=len(X.columns)-2)\n",
    "Z = skb.fit_transform(X, y)\n",
    "stayed = X.columns[skb.get_support()]"
   ]
  },
  {
   "cell_type": "code",
   "execution_count": 7,
   "metadata": {},
   "outputs": [
    {
     "name": "stdout",
     "output_type": "stream",
     "text": [
      "Variables que se quedan:  ['SEXO', 'OBESIDAD', 'DIABETES', 'EPOC', 'CARDIOVASCULAR', 'RENAL CRONICA', 'HIPERTENSION', 'EDAD']\n"
     ]
    }
   ],
   "source": [
    "print(\"Variables que se quedan: \", list(stayed))"
   ]
  },
  {
   "cell_type": "code",
   "execution_count": 8,
   "metadata": {},
   "outputs": [
    {
     "name": "stdout",
     "output_type": "stream",
     "text": [
      "Variables que eliminamos:  ['ASMA', 'INMUNOSUPRESION']\n"
     ]
    }
   ],
   "source": [
    "print(\"Variables que eliminamos: \", list(X.columns[[not(i) for  i in skb.get_support()]]))"
   ]
  },
  {
   "cell_type": "markdown",
   "metadata": {},
   "source": [
    "### ¿Qué variables eliminaría?\n",
    "* Definitivamente **ASMA**, pues en todos los análisis que realizamos en este ejercicio fue eliminada. Esto me sorprendió un poco, pero parece ser que el ASMA no es factor en cuanto a la gravedad de la enfermedad, según lo que consulté después\n",
    "\n",
    "* Para la segunda variable eliminaría **INMUNOSUPRESION**, pues es la elegida por selectKBest. aunque siguiendo el procedimiento en R parecería que la que habría que eliminar es cardiovascular, pero creo que con este dataset no hubo tan buenos resultados con esos métodos (por ejemplo, con forward no se agregaban variables), por lo que supondría que es más adecuado usar los resultados de selectKBest. "
   ]
  }
 ],
 "metadata": {
  "kernelspec": {
   "display_name": "Python 3",
   "language": "python",
   "name": "python3"
  },
  "language_info": {
   "codemirror_mode": {
    "name": "ipython",
    "version": 3
   },
   "file_extension": ".py",
   "mimetype": "text/x-python",
   "name": "python",
   "nbconvert_exporter": "python",
   "pygments_lexer": "ipython3",
   "version": "3.8.5"
  }
 },
 "nbformat": 4,
 "nbformat_minor": 4
}
