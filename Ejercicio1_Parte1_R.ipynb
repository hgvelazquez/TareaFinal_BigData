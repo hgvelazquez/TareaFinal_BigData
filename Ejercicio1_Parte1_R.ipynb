{
 "cells": [
  {
   "cell_type": "markdown",
   "metadata": {},
   "source": [
    "# Ejercicio 1 (Parte en R)."
   ]
  },
  {
   "cell_type": "markdown",
   "metadata": {},
   "source": [
    "Iniciamos cargando los datos que vamos a utilizar:"
   ]
  },
  {
   "cell_type": "code",
   "execution_count": 1,
   "metadata": {},
   "outputs": [
    {
     "data": {
      "text/html": [
       "<table>\n",
       "<caption>A data.frame: 3 × 12</caption>\n",
       "<thead>\n",
       "\t<tr><th></th><th scope=col>X</th><th scope=col>SEXO</th><th scope=col>OBESIDAD</th><th scope=col>DIABETES</th><th scope=col>EPOC</th><th scope=col>ASMA</th><th scope=col>CARDIOVASCULAR</th><th scope=col>RENAL.CRONICA</th><th scope=col>INMUNOSUPRESION</th><th scope=col>HIPERTENSION</th><th scope=col>TIPO.PACIENTE</th><th scope=col>EDAD</th></tr>\n",
       "\t<tr><th></th><th scope=col>&lt;int&gt;</th><th scope=col>&lt;fct&gt;</th><th scope=col>&lt;fct&gt;</th><th scope=col>&lt;fct&gt;</th><th scope=col>&lt;fct&gt;</th><th scope=col>&lt;fct&gt;</th><th scope=col>&lt;fct&gt;</th><th scope=col>&lt;fct&gt;</th><th scope=col>&lt;fct&gt;</th><th scope=col>&lt;fct&gt;</th><th scope=col>&lt;fct&gt;</th><th scope=col>&lt;int&gt;</th></tr>\n",
       "</thead>\n",
       "<tbody>\n",
       "\t<tr><th scope=row>1</th><td>0</td><td>MUJER </td><td>NO</td><td>NO</td><td>NO</td><td>NO</td><td>NO</td><td>NO</td><td>NO</td><td>NO</td><td>AMBULATORIO</td><td>51</td></tr>\n",
       "\t<tr><th scope=row>2</th><td>1</td><td>MUJER </td><td>NO</td><td>NO</td><td>NO</td><td>NO</td><td>NO</td><td>NO</td><td>NO</td><td>NO</td><td>AMBULATORIO</td><td>37</td></tr>\n",
       "\t<tr><th scope=row>3</th><td>2</td><td>HOMBRE</td><td>NO</td><td>NO</td><td>NO</td><td>NO</td><td>NO</td><td>NO</td><td>NO</td><td>NO</td><td>AMBULATORIO</td><td>18</td></tr>\n",
       "</tbody>\n",
       "</table>\n"
      ],
      "text/latex": [
       "A data.frame: 3 × 12\n",
       "\\begin{tabular}{r|llllllllllll}\n",
       "  & X & SEXO & OBESIDAD & DIABETES & EPOC & ASMA & CARDIOVASCULAR & RENAL.CRONICA & INMUNOSUPRESION & HIPERTENSION & TIPO.PACIENTE & EDAD\\\\\n",
       "  & <int> & <fct> & <fct> & <fct> & <fct> & <fct> & <fct> & <fct> & <fct> & <fct> & <fct> & <int>\\\\\n",
       "\\hline\n",
       "\t1 & 0 & MUJER  & NO & NO & NO & NO & NO & NO & NO & NO & AMBULATORIO & 51\\\\\n",
       "\t2 & 1 & MUJER  & NO & NO & NO & NO & NO & NO & NO & NO & AMBULATORIO & 37\\\\\n",
       "\t3 & 2 & HOMBRE & NO & NO & NO & NO & NO & NO & NO & NO & AMBULATORIO & 18\\\\\n",
       "\\end{tabular}\n"
      ],
      "text/markdown": [
       "\n",
       "A data.frame: 3 × 12\n",
       "\n",
       "| <!--/--> | X &lt;int&gt; | SEXO &lt;fct&gt; | OBESIDAD &lt;fct&gt; | DIABETES &lt;fct&gt; | EPOC &lt;fct&gt; | ASMA &lt;fct&gt; | CARDIOVASCULAR &lt;fct&gt; | RENAL.CRONICA &lt;fct&gt; | INMUNOSUPRESION &lt;fct&gt; | HIPERTENSION &lt;fct&gt; | TIPO.PACIENTE &lt;fct&gt; | EDAD &lt;int&gt; |\n",
       "|---|---|---|---|---|---|---|---|---|---|---|---|---|\n",
       "| 1 | 0 | MUJER  | NO | NO | NO | NO | NO | NO | NO | NO | AMBULATORIO | 51 |\n",
       "| 2 | 1 | MUJER  | NO | NO | NO | NO | NO | NO | NO | NO | AMBULATORIO | 37 |\n",
       "| 3 | 2 | HOMBRE | NO | NO | NO | NO | NO | NO | NO | NO | AMBULATORIO | 18 |\n",
       "\n"
      ],
      "text/plain": [
       "  X SEXO   OBESIDAD DIABETES EPOC ASMA CARDIOVASCULAR RENAL.CRONICA\n",
       "1 0 MUJER  NO       NO       NO   NO   NO             NO           \n",
       "2 1 MUJER  NO       NO       NO   NO   NO             NO           \n",
       "3 2 HOMBRE NO       NO       NO   NO   NO             NO           \n",
       "  INMUNOSUPRESION HIPERTENSION TIPO.PACIENTE EDAD\n",
       "1 NO              NO           AMBULATORIO   51  \n",
       "2 NO              NO           AMBULATORIO   37  \n",
       "3 NO              NO           AMBULATORIO   18  "
      ]
     },
     "metadata": {},
     "output_type": "display_data"
    }
   ],
   "source": [
    "cov_data = read.csv('covid.csv')\n",
    "head(cov_data, 3)"
   ]
  },
  {
   "cell_type": "markdown",
   "metadata": {},
   "source": [
    "Eliminamos la columna X"
   ]
  },
  {
   "cell_type": "code",
   "execution_count": 2,
   "metadata": {},
   "outputs": [],
   "source": [
    "cov_data = subset(cov_data, select=-c(X))"
   ]
  },
  {
   "cell_type": "code",
   "execution_count": 3,
   "metadata": {},
   "outputs": [],
   "source": [
    "cov_data <- sapply(cov_data, as.numeric)\n",
    "cov_data <- cov_data-1\n",
    "cov_data = as.data.frame(cov_data)"
   ]
  },
  {
   "cell_type": "code",
   "execution_count": 4,
   "metadata": {},
   "outputs": [
    {
     "data": {
      "text/html": [
       "<table>\n",
       "<caption>A data.frame: 3 × 11</caption>\n",
       "<thead>\n",
       "\t<tr><th></th><th scope=col>SEXO</th><th scope=col>OBESIDAD</th><th scope=col>DIABETES</th><th scope=col>EPOC</th><th scope=col>ASMA</th><th scope=col>CARDIOVASCULAR</th><th scope=col>RENAL.CRONICA</th><th scope=col>INMUNOSUPRESION</th><th scope=col>HIPERTENSION</th><th scope=col>TIPO.PACIENTE</th><th scope=col>EDAD</th></tr>\n",
       "\t<tr><th></th><th scope=col>&lt;dbl&gt;</th><th scope=col>&lt;dbl&gt;</th><th scope=col>&lt;dbl&gt;</th><th scope=col>&lt;dbl&gt;</th><th scope=col>&lt;dbl&gt;</th><th scope=col>&lt;dbl&gt;</th><th scope=col>&lt;dbl&gt;</th><th scope=col>&lt;dbl&gt;</th><th scope=col>&lt;dbl&gt;</th><th scope=col>&lt;dbl&gt;</th><th scope=col>&lt;dbl&gt;</th></tr>\n",
       "</thead>\n",
       "<tbody>\n",
       "\t<tr><th scope=row>1</th><td>1</td><td>0</td><td>0</td><td>0</td><td>0</td><td>0</td><td>0</td><td>0</td><td>0</td><td>0</td><td>50</td></tr>\n",
       "\t<tr><th scope=row>2</th><td>1</td><td>0</td><td>0</td><td>0</td><td>0</td><td>0</td><td>0</td><td>0</td><td>0</td><td>0</td><td>36</td></tr>\n",
       "\t<tr><th scope=row>3</th><td>0</td><td>0</td><td>0</td><td>0</td><td>0</td><td>0</td><td>0</td><td>0</td><td>0</td><td>0</td><td>17</td></tr>\n",
       "</tbody>\n",
       "</table>\n"
      ],
      "text/latex": [
       "A data.frame: 3 × 11\n",
       "\\begin{tabular}{r|lllllllllll}\n",
       "  & SEXO & OBESIDAD & DIABETES & EPOC & ASMA & CARDIOVASCULAR & RENAL.CRONICA & INMUNOSUPRESION & HIPERTENSION & TIPO.PACIENTE & EDAD\\\\\n",
       "  & <dbl> & <dbl> & <dbl> & <dbl> & <dbl> & <dbl> & <dbl> & <dbl> & <dbl> & <dbl> & <dbl>\\\\\n",
       "\\hline\n",
       "\t1 & 1 & 0 & 0 & 0 & 0 & 0 & 0 & 0 & 0 & 0 & 50\\\\\n",
       "\t2 & 1 & 0 & 0 & 0 & 0 & 0 & 0 & 0 & 0 & 0 & 36\\\\\n",
       "\t3 & 0 & 0 & 0 & 0 & 0 & 0 & 0 & 0 & 0 & 0 & 17\\\\\n",
       "\\end{tabular}\n"
      ],
      "text/markdown": [
       "\n",
       "A data.frame: 3 × 11\n",
       "\n",
       "| <!--/--> | SEXO &lt;dbl&gt; | OBESIDAD &lt;dbl&gt; | DIABETES &lt;dbl&gt; | EPOC &lt;dbl&gt; | ASMA &lt;dbl&gt; | CARDIOVASCULAR &lt;dbl&gt; | RENAL.CRONICA &lt;dbl&gt; | INMUNOSUPRESION &lt;dbl&gt; | HIPERTENSION &lt;dbl&gt; | TIPO.PACIENTE &lt;dbl&gt; | EDAD &lt;dbl&gt; |\n",
       "|---|---|---|---|---|---|---|---|---|---|---|---|\n",
       "| 1 | 1 | 0 | 0 | 0 | 0 | 0 | 0 | 0 | 0 | 0 | 50 |\n",
       "| 2 | 1 | 0 | 0 | 0 | 0 | 0 | 0 | 0 | 0 | 0 | 36 |\n",
       "| 3 | 0 | 0 | 0 | 0 | 0 | 0 | 0 | 0 | 0 | 0 | 17 |\n",
       "\n"
      ],
      "text/plain": [
       "  SEXO OBESIDAD DIABETES EPOC ASMA CARDIOVASCULAR RENAL.CRONICA INMUNOSUPRESION\n",
       "1 1    0        0        0    0    0              0             0              \n",
       "2 1    0        0        0    0    0              0             0              \n",
       "3 0    0        0        0    0    0              0             0              \n",
       "  HIPERTENSION TIPO.PACIENTE EDAD\n",
       "1 0            0             50  \n",
       "2 0            0             36  \n",
       "3 0            0             17  "
      ]
     },
     "metadata": {},
     "output_type": "display_data"
    }
   ],
   "source": [
    "head(cov_data, 3)"
   ]
  },
  {
   "cell_type": "markdown",
   "metadata": {},
   "source": [
    "Tomamos una muestra aleatoria, de lo contrario los algoritmos de selección de variables no añaden o quitan ninguna de las covariables. "
   ]
  },
  {
   "cell_type": "code",
   "execution_count": 5,
   "metadata": {},
   "outputs": [],
   "source": [
    "test <- sample(nrow(cov_data), 15000)\n",
    "test_data <- cov_data[test,]"
   ]
  },
  {
   "cell_type": "markdown",
   "metadata": {},
   "source": [
    "### a) Utilizar el AIC con forward, backward y stepwise"
   ]
  },
  {
   "cell_type": "markdown",
   "metadata": {},
   "source": [
    "**Forward**"
   ]
  },
  {
   "cell_type": "markdown",
   "metadata": {},
   "source": [
    "Empezamos con el forward. Para ejecutar este algoritmo, tenemos que iniciar con el modelo vacío, así que usaremos TIPO.PACIENTE~1"
   ]
  },
  {
   "cell_type": "code",
   "execution_count": 6,
   "metadata": {},
   "outputs": [],
   "source": [
    "library(\"MASS\")"
   ]
  },
  {
   "cell_type": "code",
   "execution_count": 7,
   "metadata": {},
   "outputs": [],
   "source": [
    "empty.model <- lm(TIPO.PACIENTE ~ 1, data=test_data)\n",
    "horizonte <- formula(~., data=test_data)"
   ]
  },
  {
   "cell_type": "code",
   "execution_count": 8,
   "metadata": {},
   "outputs": [
    {
     "name": "stdout",
     "output_type": "stream",
     "text": [
      "Start:  AIC=-23696.79\n",
      "TIPO.PACIENTE ~ 1\n",
      "\n"
     ]
    }
   ],
   "source": [
    "modforw <- stepAIC(empty.model, trace=TRUE, direction=\"forward\", \n",
    "                   scope=list(lower = TIPO.PACIENTE ~ EDAD, upper = TIPO.PACIENTE ~ .),\n",
    "                   k = log(100))"
   ]
  },
  {
   "cell_type": "code",
   "execution_count": 9,
   "metadata": {},
   "outputs": [
    {
     "data": {
      "text/plain": [
       "\n",
       "Call:\n",
       "lm(formula = TIPO.PACIENTE ~ 1, data = test_data)\n",
       "\n",
       "Residuals:\n",
       "    Min      1Q  Median      3Q     Max \n",
       "-0.2901 -0.2901 -0.2901  0.7099  0.7099 \n",
       "\n",
       "Coefficients:\n",
       "            Estimate Std. Error t value Pr(>|t|)    \n",
       "(Intercept) 0.290133   0.003706    78.3   <2e-16 ***\n",
       "---\n",
       "Signif. codes:  0 ‘***’ 0.001 ‘**’ 0.01 ‘*’ 0.05 ‘.’ 0.1 ‘ ’ 1\n",
       "\n",
       "Residual standard error: 0.4538 on 14999 degrees of freedom\n"
      ]
     },
     "metadata": {},
     "output_type": "display_data"
    }
   ],
   "source": [
    "summary(modforw)"
   ]
  },
  {
   "cell_type": "markdown",
   "metadata": {},
   "source": [
    "Con este método no llegamos a nada, posiblemente porque tenemos muchas observaciones contra pocas covariables y no se encontró ninguna lo suficientemente significativa para ser añadida al modelo en el mismo paso. \n",
    "\n",
    "Lo prové con otros tamaños de muestra, pero no logré que cambiara el resultado (si fue error mío, me gustaría si me pudiera comentar qué fue)."
   ]
  },
  {
   "cell_type": "markdown",
   "metadata": {},
   "source": [
    "**Backward**"
   ]
  },
  {
   "cell_type": "markdown",
   "metadata": {},
   "source": [
    "Con este método iniciamos con el modelo completo para ir eliminando covariables, por lo que se usa TIPO.PACIENTE~."
   ]
  },
  {
   "cell_type": "code",
   "execution_count": 10,
   "metadata": {},
   "outputs": [
    {
     "name": "stdout",
     "output_type": "stream",
     "text": [
      "Start:  AIC=-26920.84\n",
      "TIPO.PACIENTE ~ SEXO + OBESIDAD + DIABETES + EPOC + ASMA + CARDIOVASCULAR + \n",
      "    RENAL.CRONICA + INMUNOSUPRESION + HIPERTENSION + EDAD\n",
      "\n",
      "                  Df Sum of Sq    RSS    AIC\n",
      "- ASMA             1     0.000 2488.9 -26923\n",
      "- CARDIOVASCULAR   1     0.180 2489.1 -26922\n",
      "<none>                         2488.9 -26921\n",
      "- EPOC             1     0.544 2489.5 -26920\n",
      "- HIPERTENSION     1     2.373 2491.3 -26908\n",
      "- OBESIDAD         1     3.212 2492.2 -26904\n",
      "- INMUNOSUPRESION  1     4.710 2493.7 -26894\n",
      "- RENAL.CRONICA    1     8.242 2497.2 -26873\n",
      "- SEXO             1    29.596 2518.6 -26746\n",
      "- DIABETES         1    38.007 2527.0 -26696\n",
      "- EDAD             1   264.882 2753.8 -25406\n",
      "\n",
      "Step:  AIC=-26922.84\n",
      "TIPO.PACIENTE ~ SEXO + OBESIDAD + DIABETES + EPOC + CARDIOVASCULAR + \n",
      "    RENAL.CRONICA + INMUNOSUPRESION + HIPERTENSION + EDAD\n",
      "\n",
      "                  Df Sum of Sq    RSS    AIC\n",
      "- CARDIOVASCULAR   1     0.180 2489.1 -26924\n",
      "<none>                         2488.9 -26923\n",
      "- EPOC             1     0.544 2489.5 -26922\n",
      "- HIPERTENSION     1     2.373 2491.3 -26910\n",
      "- OBESIDAD         1     3.220 2492.2 -26906\n",
      "- INMUNOSUPRESION  1     4.711 2493.7 -26896\n",
      "- RENAL.CRONICA    1     8.242 2497.2 -26875\n",
      "- SEXO             1    29.680 2518.6 -26747\n",
      "- DIABETES         1    38.011 2527.0 -26698\n",
      "- EDAD             1   265.122 2754.1 -25406\n",
      "\n",
      "Step:  AIC=-26923.76\n",
      "TIPO.PACIENTE ~ SEXO + OBESIDAD + DIABETES + EPOC + RENAL.CRONICA + \n",
      "    INMUNOSUPRESION + HIPERTENSION + EDAD\n",
      "\n",
      "                  Df Sum of Sq    RSS    AIC\n",
      "<none>                         2489.1 -26924\n",
      "- EPOC             1     0.587 2489.7 -26922\n",
      "- HIPERTENSION     1     2.501 2491.6 -26911\n",
      "- OBESIDAD         1     3.239 2492.4 -26906\n",
      "- INMUNOSUPRESION  1     4.812 2493.9 -26897\n",
      "- RENAL.CRONICA    1     8.460 2497.6 -26875\n",
      "- SEXO             1    29.670 2518.8 -26748\n",
      "- DIABETES         1    38.286 2527.4 -26697\n",
      "- EDAD             1   266.956 2756.1 -25398\n"
     ]
    }
   ],
   "source": [
    "full.model <- lm(TIPO.PACIENTE ~ ., data=test_data)\n",
    "backwards_model <- stepAIC(full.model, trace=TRUE, direction=\"backward\")"
   ]
  },
  {
   "cell_type": "code",
   "execution_count": 11,
   "metadata": {},
   "outputs": [
    {
     "data": {
      "text/plain": [
       "\n",
       "Call:\n",
       "lm(formula = TIPO.PACIENTE ~ SEXO + OBESIDAD + DIABETES + EPOC + \n",
       "    RENAL.CRONICA + INMUNOSUPRESION + HIPERTENSION + EDAD, data = test_data)\n",
       "\n",
       "Residuals:\n",
       "    Min      1Q  Median      3Q     Max \n",
       "-1.0336 -0.2747 -0.1273  0.3569  1.2227 \n",
       "\n",
       "Coefficients:\n",
       "                  Estimate Std. Error t value Pr(>|t|)    \n",
       "(Intercept)     -0.1241417  0.0108028 -11.492  < 2e-16 ***\n",
       "SEXO            -0.0893078  0.0066809 -13.368  < 2e-16 ***\n",
       "OBESIDAD         0.0374789  0.0084860   4.417 1.01e-05 ***\n",
       "DIABETES         0.1501218  0.0098862  15.185  < 2e-16 ***\n",
       "EPOC             0.0482891  0.0256840   1.880 0.060111 .  \n",
       "RENAL.CRONICA    0.1738053  0.0243487   7.138 9.89e-13 ***\n",
       "INMUNOSUPRESION  0.1663981  0.0309102   5.383 7.42e-08 ***\n",
       "HIPERTENSION     0.0367383  0.0094663   3.881 0.000105 ***\n",
       "EDAD             0.0092104  0.0002297  40.097  < 2e-16 ***\n",
       "---\n",
       "Signif. codes:  0 ‘***’ 0.001 ‘**’ 0.01 ‘*’ 0.05 ‘.’ 0.1 ‘ ’ 1\n",
       "\n",
       "Residual standard error: 0.4075 on 14991 degrees of freedom\n",
       "Multiple R-squared:  0.1943,\tAdjusted R-squared:  0.1939 \n",
       "F-statistic: 451.9 on 8 and 14991 DF,  p-value: < 2.2e-16\n"
      ]
     },
     "metadata": {},
     "output_type": "display_data"
    }
   ],
   "source": [
    "summary(backwards_model)"
   ]
  },
  {
   "cell_type": "markdown",
   "metadata": {},
   "source": [
    "Vemos que en este caso se eliminan el ASMA y CARDIOVASCULAR. "
   ]
  },
  {
   "cell_type": "markdown",
   "metadata": {},
   "source": [
    "**Stepwise**"
   ]
  },
  {
   "cell_type": "markdown",
   "metadata": {},
   "source": [
    "Se permite añadir y remover covariables. \n",
    "En este caso, si iniciamos desde el modelo vacío llegamos a lo mismo que con forward, es decir, no se añaden variables, por lo que inicio desde el modelo lleno."
   ]
  },
  {
   "cell_type": "code",
   "execution_count": 12,
   "metadata": {},
   "outputs": [
    {
     "name": "stdout",
     "output_type": "stream",
     "text": [
      "Start:  AIC=-26920.84\n",
      "TIPO.PACIENTE ~ SEXO + OBESIDAD + DIABETES + EPOC + ASMA + CARDIOVASCULAR + \n",
      "    RENAL.CRONICA + INMUNOSUPRESION + HIPERTENSION + EDAD\n",
      "\n",
      "                  Df Sum of Sq    RSS    AIC\n",
      "- ASMA             1     0.000 2488.9 -26923\n",
      "- CARDIOVASCULAR   1     0.180 2489.1 -26922\n",
      "<none>                         2488.9 -26921\n",
      "- EPOC             1     0.544 2489.5 -26920\n",
      "- HIPERTENSION     1     2.373 2491.3 -26908\n",
      "- OBESIDAD         1     3.212 2492.2 -26904\n",
      "- INMUNOSUPRESION  1     4.710 2493.7 -26894\n",
      "- RENAL.CRONICA    1     8.242 2497.2 -26873\n",
      "- SEXO             1    29.596 2518.6 -26746\n",
      "- DIABETES         1    38.007 2527.0 -26696\n",
      "- EDAD             1   264.882 2753.8 -25406\n",
      "\n",
      "Step:  AIC=-26922.84\n",
      "TIPO.PACIENTE ~ SEXO + OBESIDAD + DIABETES + EPOC + CARDIOVASCULAR + \n",
      "    RENAL.CRONICA + INMUNOSUPRESION + HIPERTENSION + EDAD\n",
      "\n",
      "                  Df Sum of Sq    RSS    AIC\n",
      "- CARDIOVASCULAR   1     0.180 2489.1 -26924\n",
      "<none>                         2488.9 -26923\n",
      "- EPOC             1     0.544 2489.5 -26922\n",
      "+ ASMA             1     0.000 2488.9 -26921\n",
      "- HIPERTENSION     1     2.373 2491.3 -26910\n",
      "- OBESIDAD         1     3.220 2492.2 -26906\n",
      "- INMUNOSUPRESION  1     4.711 2493.7 -26896\n",
      "- RENAL.CRONICA    1     8.242 2497.2 -26875\n",
      "- SEXO             1    29.680 2518.6 -26747\n",
      "- DIABETES         1    38.011 2527.0 -26698\n",
      "- EDAD             1   265.122 2754.1 -25406\n",
      "\n",
      "Step:  AIC=-26923.76\n",
      "TIPO.PACIENTE ~ SEXO + OBESIDAD + DIABETES + EPOC + RENAL.CRONICA + \n",
      "    INMUNOSUPRESION + HIPERTENSION + EDAD\n",
      "\n",
      "                  Df Sum of Sq    RSS    AIC\n",
      "<none>                         2489.1 -26924\n",
      "+ CARDIOVASCULAR   1     0.180 2488.9 -26923\n",
      "- EPOC             1     0.587 2489.7 -26922\n",
      "+ ASMA             1     0.000 2489.1 -26922\n",
      "- HIPERTENSION     1     2.501 2491.6 -26911\n",
      "- OBESIDAD         1     3.239 2492.4 -26906\n",
      "- INMUNOSUPRESION  1     4.812 2493.9 -26897\n",
      "- RENAL.CRONICA    1     8.460 2497.6 -26875\n",
      "- SEXO             1    29.670 2518.8 -26748\n",
      "- DIABETES         1    38.286 2527.4 -26697\n",
      "- EDAD             1   266.956 2756.1 -25398\n"
     ]
    }
   ],
   "source": [
    "modboth <- stepAIC(full.model, trace=TRUE, direction=\"both\", scope=horizonte)"
   ]
  },
  {
   "cell_type": "code",
   "execution_count": 13,
   "metadata": {},
   "outputs": [
    {
     "data": {
      "text/plain": [
       "\n",
       "Call:\n",
       "lm(formula = TIPO.PACIENTE ~ SEXO + OBESIDAD + DIABETES + EPOC + \n",
       "    RENAL.CRONICA + INMUNOSUPRESION + HIPERTENSION + EDAD, data = test_data)\n",
       "\n",
       "Residuals:\n",
       "    Min      1Q  Median      3Q     Max \n",
       "-1.0336 -0.2747 -0.1273  0.3569  1.2227 \n",
       "\n",
       "Coefficients:\n",
       "                  Estimate Std. Error t value Pr(>|t|)    \n",
       "(Intercept)     -0.1241417  0.0108028 -11.492  < 2e-16 ***\n",
       "SEXO            -0.0893078  0.0066809 -13.368  < 2e-16 ***\n",
       "OBESIDAD         0.0374789  0.0084860   4.417 1.01e-05 ***\n",
       "DIABETES         0.1501218  0.0098862  15.185  < 2e-16 ***\n",
       "EPOC             0.0482891  0.0256840   1.880 0.060111 .  \n",
       "RENAL.CRONICA    0.1738053  0.0243487   7.138 9.89e-13 ***\n",
       "INMUNOSUPRESION  0.1663981  0.0309102   5.383 7.42e-08 ***\n",
       "HIPERTENSION     0.0367383  0.0094663   3.881 0.000105 ***\n",
       "EDAD             0.0092104  0.0002297  40.097  < 2e-16 ***\n",
       "---\n",
       "Signif. codes:  0 ‘***’ 0.001 ‘**’ 0.01 ‘*’ 0.05 ‘.’ 0.1 ‘ ’ 1\n",
       "\n",
       "Residual standard error: 0.4075 on 14991 degrees of freedom\n",
       "Multiple R-squared:  0.1943,\tAdjusted R-squared:  0.1939 \n",
       "F-statistic: 451.9 on 8 and 14991 DF,  p-value: < 2.2e-16\n"
      ]
     },
     "metadata": {},
     "output_type": "display_data"
    }
   ],
   "source": [
    "summary(modboth)"
   ]
  },
  {
   "cell_type": "markdown",
   "metadata": {},
   "source": [
    "En este caso, el resultado fue el mismo que con backwards. Por lo mismo, conjeturo que por las características de los datos tal vez estos algoritmos no sean el método más adecuado para hacer la selección de covariables."
   ]
  },
  {
   "cell_type": "markdown",
   "metadata": {},
   "source": [
    "### b) Utilizar los criterios de BIC y Mallow Cp"
   ]
  },
  {
   "cell_type": "code",
   "execution_count": 14,
   "metadata": {},
   "outputs": [],
   "source": [
    "library(leaps)"
   ]
  },
  {
   "cell_type": "code",
   "execution_count": 15,
   "metadata": {},
   "outputs": [],
   "source": [
    "all <-regsubsets(TIPO.PACIENTE ~ ., data=test_data, nbest=1)"
   ]
  },
  {
   "cell_type": "code",
   "execution_count": 16,
   "metadata": {},
   "outputs": [
    {
     "data": {
      "text/html": [
       "<table>\n",
       "<caption>A matrix: 8 × 16 of type dbl</caption>\n",
       "<thead>\n",
       "\t<tr><th></th><th scope=col>(Intercept)</th><th scope=col>SEXO</th><th scope=col>OBESIDAD</th><th scope=col>DIABETES</th><th scope=col>EPOC</th><th scope=col>ASMA</th><th scope=col>CARDIOVASCULAR</th><th scope=col>RENAL.CRONICA</th><th scope=col>INMUNOSUPRESION</th><th scope=col>HIPERTENSION</th><th scope=col>EDAD</th><th scope=col>rsq</th><th scope=col>adjr2</th><th scope=col>cp</th><th scope=col>bic</th><th scope=col>rss</th></tr>\n",
       "</thead>\n",
       "<tbody>\n",
       "\t<tr><th scope=row>1</th><td>1</td><td>0</td><td>0</td><td>0</td><td>0</td><td>0</td><td>0</td><td>0</td><td>0</td><td>0</td><td>1</td><td>0.159</td><td>0.159</td><td>655.577</td><td>-2573.392</td><td>2598.972</td></tr>\n",
       "\t<tr><th scope=row>2</th><td>1</td><td>0</td><td>0</td><td>1</td><td>0</td><td>0</td><td>0</td><td>0</td><td>0</td><td>0</td><td>1</td><td>0.177</td><td>0.177</td><td>317.039</td><td>-2893.741</td><td>2542.424</td></tr>\n",
       "\t<tr><th scope=row>3</th><td>1</td><td>1</td><td>0</td><td>1</td><td>0</td><td>0</td><td>0</td><td>0</td><td>0</td><td>0</td><td>1</td><td>0.186</td><td>0.186</td><td>144.820</td><td>-3055.783</td><td>2513.495</td></tr>\n",
       "\t<tr><th scope=row>4</th><td>1</td><td>1</td><td>0</td><td>1</td><td>0</td><td>0</td><td>0</td><td>1</td><td>0</td><td>0</td><td>1</td><td>0.190</td><td>0.190</td><td> 74.426</td><td>-3118.079</td><td>2501.474</td></tr>\n",
       "\t<tr><th scope=row>5</th><td>1</td><td>1</td><td>0</td><td>1</td><td>0</td><td>0</td><td>0</td><td>1</td><td>1</td><td>0</td><td>1</td><td>0.192</td><td>0.192</td><td> 45.023</td><td>-3139.765</td><td>2496.260</td></tr>\n",
       "\t<tr><th scope=row>6</th><td>1</td><td>1</td><td>1</td><td>1</td><td>0</td><td>0</td><td>0</td><td>1</td><td>1</td><td>0</td><td>1</td><td>0.193</td><td>0.193</td><td> 23.167</td><td>-3153.971</td><td>2492.298</td></tr>\n",
       "\t<tr><th scope=row>7</th><td>1</td><td>1</td><td>1</td><td>1</td><td>0</td><td>0</td><td>0</td><td>1</td><td>1</td><td>1</td><td>1</td><td>0.194</td><td>0.194</td><td>  9.617</td><td>-3159.904</td><td>2489.716</td></tr>\n",
       "\t<tr><th scope=row>8</th><td>1</td><td>1</td><td>1</td><td>1</td><td>1</td><td>0</td><td>0</td><td>1</td><td>1</td><td>1</td><td>1</td><td>0.194</td><td>0.194</td><td>  8.083</td><td>-3153.825</td><td>2489.129</td></tr>\n",
       "</tbody>\n",
       "</table>\n"
      ],
      "text/latex": [
       "A matrix: 8 × 16 of type dbl\n",
       "\\begin{tabular}{r|llllllllllllllll}\n",
       "  & (Intercept) & SEXO & OBESIDAD & DIABETES & EPOC & ASMA & CARDIOVASCULAR & RENAL.CRONICA & INMUNOSUPRESION & HIPERTENSION & EDAD & rsq & adjr2 & cp & bic & rss\\\\\n",
       "\\hline\n",
       "\t1 & 1 & 0 & 0 & 0 & 0 & 0 & 0 & 0 & 0 & 0 & 1 & 0.159 & 0.159 & 655.577 & -2573.392 & 2598.972\\\\\n",
       "\t2 & 1 & 0 & 0 & 1 & 0 & 0 & 0 & 0 & 0 & 0 & 1 & 0.177 & 0.177 & 317.039 & -2893.741 & 2542.424\\\\\n",
       "\t3 & 1 & 1 & 0 & 1 & 0 & 0 & 0 & 0 & 0 & 0 & 1 & 0.186 & 0.186 & 144.820 & -3055.783 & 2513.495\\\\\n",
       "\t4 & 1 & 1 & 0 & 1 & 0 & 0 & 0 & 1 & 0 & 0 & 1 & 0.190 & 0.190 &  74.426 & -3118.079 & 2501.474\\\\\n",
       "\t5 & 1 & 1 & 0 & 1 & 0 & 0 & 0 & 1 & 1 & 0 & 1 & 0.192 & 0.192 &  45.023 & -3139.765 & 2496.260\\\\\n",
       "\t6 & 1 & 1 & 1 & 1 & 0 & 0 & 0 & 1 & 1 & 0 & 1 & 0.193 & 0.193 &  23.167 & -3153.971 & 2492.298\\\\\n",
       "\t7 & 1 & 1 & 1 & 1 & 0 & 0 & 0 & 1 & 1 & 1 & 1 & 0.194 & 0.194 &   9.617 & -3159.904 & 2489.716\\\\\n",
       "\t8 & 1 & 1 & 1 & 1 & 1 & 0 & 0 & 1 & 1 & 1 & 1 & 0.194 & 0.194 &   8.083 & -3153.825 & 2489.129\\\\\n",
       "\\end{tabular}\n"
      ],
      "text/markdown": [
       "\n",
       "A matrix: 8 × 16 of type dbl\n",
       "\n",
       "| <!--/--> | (Intercept) | SEXO | OBESIDAD | DIABETES | EPOC | ASMA | CARDIOVASCULAR | RENAL.CRONICA | INMUNOSUPRESION | HIPERTENSION | EDAD | rsq | adjr2 | cp | bic | rss |\n",
       "|---|---|---|---|---|---|---|---|---|---|---|---|---|---|---|---|---|\n",
       "| 1 | 1 | 0 | 0 | 0 | 0 | 0 | 0 | 0 | 0 | 0 | 1 | 0.159 | 0.159 | 655.577 | -2573.392 | 2598.972 |\n",
       "| 2 | 1 | 0 | 0 | 1 | 0 | 0 | 0 | 0 | 0 | 0 | 1 | 0.177 | 0.177 | 317.039 | -2893.741 | 2542.424 |\n",
       "| 3 | 1 | 1 | 0 | 1 | 0 | 0 | 0 | 0 | 0 | 0 | 1 | 0.186 | 0.186 | 144.820 | -3055.783 | 2513.495 |\n",
       "| 4 | 1 | 1 | 0 | 1 | 0 | 0 | 0 | 1 | 0 | 0 | 1 | 0.190 | 0.190 |  74.426 | -3118.079 | 2501.474 |\n",
       "| 5 | 1 | 1 | 0 | 1 | 0 | 0 | 0 | 1 | 1 | 0 | 1 | 0.192 | 0.192 |  45.023 | -3139.765 | 2496.260 |\n",
       "| 6 | 1 | 1 | 1 | 1 | 0 | 0 | 0 | 1 | 1 | 0 | 1 | 0.193 | 0.193 |  23.167 | -3153.971 | 2492.298 |\n",
       "| 7 | 1 | 1 | 1 | 1 | 0 | 0 | 0 | 1 | 1 | 1 | 1 | 0.194 | 0.194 |   9.617 | -3159.904 | 2489.716 |\n",
       "| 8 | 1 | 1 | 1 | 1 | 1 | 0 | 0 | 1 | 1 | 1 | 1 | 0.194 | 0.194 |   8.083 | -3153.825 | 2489.129 |\n",
       "\n"
      ],
      "text/plain": [
       "  (Intercept) SEXO OBESIDAD DIABETES EPOC ASMA CARDIOVASCULAR RENAL.CRONICA\n",
       "1 1           0    0        0        0    0    0              0            \n",
       "2 1           0    0        1        0    0    0              0            \n",
       "3 1           1    0        1        0    0    0              0            \n",
       "4 1           1    0        1        0    0    0              1            \n",
       "5 1           1    0        1        0    0    0              1            \n",
       "6 1           1    1        1        0    0    0              1            \n",
       "7 1           1    1        1        0    0    0              1            \n",
       "8 1           1    1        1        1    0    0              1            \n",
       "  INMUNOSUPRESION HIPERTENSION EDAD rsq   adjr2 cp      bic       rss     \n",
       "1 0               0            1    0.159 0.159 655.577 -2573.392 2598.972\n",
       "2 0               0            1    0.177 0.177 317.039 -2893.741 2542.424\n",
       "3 0               0            1    0.186 0.186 144.820 -3055.783 2513.495\n",
       "4 0               0            1    0.190 0.190  74.426 -3118.079 2501.474\n",
       "5 1               0            1    0.192 0.192  45.023 -3139.765 2496.260\n",
       "6 1               0            1    0.193 0.193  23.167 -3153.971 2492.298\n",
       "7 1               1            1    0.194 0.194   9.617 -3159.904 2489.716\n",
       "8 1               1            1    0.194 0.194   8.083 -3153.825 2489.129"
      ]
     },
     "metadata": {},
     "output_type": "display_data"
    }
   ],
   "source": [
    "info<-summary(all)\n",
    "cbind(info$which, round(cbind(rsq=info$rsq,adjr2=info$adjr2, cp=info$cp, bic=info$bic, rss=info$rss), 3))"
   ]
  },
  {
   "cell_type": "markdown",
   "metadata": {},
   "source": [
    "**BIC**: El modelo con el menor BIC es el 7, en donde se eliminan ASMA, CARDIOVASCULAR y EPOC."
   ]
  },
  {
   "cell_type": "markdown",
   "metadata": {},
   "source": [
    "**Mallow Cp**: El modelo con el Mallow Cp más pequeño es el 8, en donde se eliminan ASMA y CARDIOVASCULAR."
   ]
  }
 ],
 "metadata": {
  "kernelspec": {
   "display_name": "R",
   "language": "R",
   "name": "ir"
  },
  "language_info": {
   "codemirror_mode": "r",
   "file_extension": ".r",
   "mimetype": "text/x-r-source",
   "name": "R",
   "pygments_lexer": "r",
   "version": "3.6.3"
  }
 },
 "nbformat": 4,
 "nbformat_minor": 4
}
