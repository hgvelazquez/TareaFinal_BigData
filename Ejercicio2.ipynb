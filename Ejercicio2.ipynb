{
 "cells": [
  {
   "cell_type": "markdown",
   "metadata": {},
   "source": [
    "# Ejercicio 2. SVM y Regresión Logística"
   ]
  },
  {
   "cell_type": "markdown",
   "metadata": {},
   "source": [
    "**Ajuste una Máquina de Soporte de Vectorial a los datos de COVID**"
   ]
  },
  {
   "cell_type": "code",
   "execution_count": 1,
   "metadata": {},
   "outputs": [],
   "source": [
    "import numpy as np\n",
    "import pandas as pd\n",
    "import matplotlib.pyplot as plt\n",
    "from sklearn import svm\n",
    "from sklearn.model_selection import train_test_split\n",
    "from sklearn.preprocessing import LabelEncoder, OneHotEncoder, KBinsDiscretizer\n",
    "from sklearn.compose import ColumnTransformer\n",
    "from sklearn.pipeline import Pipeline\n",
    "from sklearn.linear_model import LogisticRegression\n",
    "from sklearn.model_selection import GridSearchCV\n",
    "from sklearn.metrics import accuracy_score, precision_score, recall_score, f1_score, plot_confusion_matrix\n",
    "from sklearn import metrics\n",
    "from sklearn.metrics import precision_recall_curve"
   ]
  },
  {
   "cell_type": "markdown",
   "metadata": {},
   "source": [
    "Iniciamos cargando los datos que vamos a usar:"
   ]
  },
  {
   "cell_type": "code",
   "execution_count": 2,
   "metadata": {},
   "outputs": [
    {
     "data": {
      "text/html": [
       "<div>\n",
       "<style scoped>\n",
       "    .dataframe tbody tr th:only-of-type {\n",
       "        vertical-align: middle;\n",
       "    }\n",
       "\n",
       "    .dataframe tbody tr th {\n",
       "        vertical-align: top;\n",
       "    }\n",
       "\n",
       "    .dataframe thead th {\n",
       "        text-align: right;\n",
       "    }\n",
       "</style>\n",
       "<table border=\"1\" class=\"dataframe\">\n",
       "  <thead>\n",
       "    <tr style=\"text-align: right;\">\n",
       "      <th></th>\n",
       "      <th>SEXO</th>\n",
       "      <th>OBESIDAD</th>\n",
       "      <th>DIABETES</th>\n",
       "      <th>EPOC</th>\n",
       "      <th>ASMA</th>\n",
       "      <th>CARDIOVASCULAR</th>\n",
       "      <th>RENAL CRONICA</th>\n",
       "      <th>INMUNOSUPRESION</th>\n",
       "      <th>HIPERTENSION</th>\n",
       "      <th>TIPO PACIENTE</th>\n",
       "      <th>EDAD</th>\n",
       "    </tr>\n",
       "  </thead>\n",
       "  <tbody>\n",
       "    <tr>\n",
       "      <th>0</th>\n",
       "      <td>MUJER</td>\n",
       "      <td>NO</td>\n",
       "      <td>NO</td>\n",
       "      <td>NO</td>\n",
       "      <td>NO</td>\n",
       "      <td>NO</td>\n",
       "      <td>NO</td>\n",
       "      <td>NO</td>\n",
       "      <td>NO</td>\n",
       "      <td>AMBULATORIO</td>\n",
       "      <td>51</td>\n",
       "    </tr>\n",
       "    <tr>\n",
       "      <th>1</th>\n",
       "      <td>MUJER</td>\n",
       "      <td>NO</td>\n",
       "      <td>NO</td>\n",
       "      <td>NO</td>\n",
       "      <td>NO</td>\n",
       "      <td>NO</td>\n",
       "      <td>NO</td>\n",
       "      <td>NO</td>\n",
       "      <td>NO</td>\n",
       "      <td>AMBULATORIO</td>\n",
       "      <td>37</td>\n",
       "    </tr>\n",
       "  </tbody>\n",
       "</table>\n",
       "</div>"
      ],
      "text/plain": [
       "    SEXO OBESIDAD DIABETES EPOC ASMA CARDIOVASCULAR RENAL CRONICA  \\\n",
       "0  MUJER       NO       NO   NO   NO             NO            NO   \n",
       "1  MUJER       NO       NO   NO   NO             NO            NO   \n",
       "\n",
       "  INMUNOSUPRESION HIPERTENSION TIPO PACIENTE  EDAD  \n",
       "0              NO           NO   AMBULATORIO    51  \n",
       "1              NO           NO   AMBULATORIO    37  "
      ]
     },
     "execution_count": 2,
     "metadata": {},
     "output_type": "execute_result"
    }
   ],
   "source": [
    "data = pd.read_csv('covid.csv')\n",
    "data.pop('Unnamed: 0') # Nos deshacemos de la columna con los índices de paciente.\n",
    "data.head(2)"
   ]
  },
  {
   "cell_type": "markdown",
   "metadata": {},
   "source": [
    "Separamos el dataframe en las variables feature (X) y target (y). A la segunda le apllicamos un mapeo a 0 y 1:"
   ]
  },
  {
   "cell_type": "code",
   "execution_count": 3,
   "metadata": {},
   "outputs": [],
   "source": [
    "y=LabelEncoder().fit_transform(data[\"TIPO PACIENTE\"])\n",
    "X=data.drop([\"TIPO PACIENTE\"],axis=1)"
   ]
  },
  {
   "cell_type": "markdown",
   "metadata": {},
   "source": [
    "### a) Aplique OneHotEncoder a las variables categóricas."
   ]
  },
  {
   "cell_type": "markdown",
   "metadata": {},
   "source": [
    "La única variable que no es categórica es la edad:"
   ]
  },
  {
   "cell_type": "code",
   "execution_count": 4,
   "metadata": {},
   "outputs": [],
   "source": [
    "categorical = list(X.columns)\n",
    "categorical.remove(\"EDAD\")\n",
    "numerical = [\"EDAD\"]"
   ]
  },
  {
   "cell_type": "markdown",
   "metadata": {},
   "source": [
    "En un inició pensé en únicamente realizar las transformaciones fuera de la pipeline, pero tras ver leer en la documentación de scikitlearn que esto puede ocasionar resultados sesgados por leaks de información del conjunto de validación al conjunto de entrenamiento, y que ellos recomiendan manejarlo dentro de un pipeline, decidí mejor dejarlo como en el ejemplo.\n"
   ]
  },
  {
   "cell_type": "markdown",
   "metadata": {},
   "source": [
    "Definimos entonces un Pipeline que dentro maneja el **One Hot Encoding** para las variables categóricas que se nos pide en este inciso. Adicional a eso, aplicamos una discretización en Bins a la edad para hacer más sencillo su manejo dentro de un clasificador. "
   ]
  },
  {
   "cell_type": "code",
   "execution_count": 5,
   "metadata": {},
   "outputs": [],
   "source": [
    "def modelo(X_train, y_train, numeric_features, categorical_features, classifier):\n",
    "    # No manejamos imputer porque nuestros datos ya vienen limpios y\n",
    "    # queremos que sea lo más óptimo posible por la cantidad de datos que tenemos. \n",
    "    kbd = KBinsDiscretizer(n_bins=5, encode='ordinal', strategy='quantile')\n",
    "    # Aquí está el One-Hot Encoding que se nos pide en el ejercicio.\n",
    "    ohe = OneHotEncoder(handle_unknown='ignore')\n",
    "    preprocessor = ColumnTransformer(\n",
    "        transformers=[\n",
    "            ('num', kbd, numeric_features),\n",
    "            ('cat', ohe, categorical_features)\n",
    "        ])\n",
    "    # Pipeline principal con el preprocesamiento y el clasificador\n",
    "    clf = Pipeline(steps=[('preprocessor', preprocessor),\n",
    "                          ('classifier', classifier)])\n",
    "    modelo=clf.fit(X_train, y_train)\n",
    "    return modelo"
   ]
  },
  {
   "cell_type": "markdown",
   "metadata": {},
   "source": [
    "### b) Ajuste un kernel lineal"
   ]
  },
  {
   "cell_type": "markdown",
   "metadata": {},
   "source": [
    "Como la complejidad computacional de entrenar una máquina de soporte vectorial es algo alta cuando tenemos un gran número de datos, vamos a realizar una muestra aleatoria para entrenar con alrededor de 7,000 datos (específicamente, 6950, el 2% de nuestros datos totales). <br>\n",
    "\n",
    "Así mismo, vamos a hacer otro muestreo para los datos de validación en una proporción similar, quedándonos con 6811 datos. <br>\n",
    "\n",
    "Para realizar esto lo que haremos es usar train_test_split dos veces, pues nos asegura que la proporción de datos con ambas etiquetas se mantiene."
   ]
  },
  {
   "cell_type": "code",
   "execution_count": 6,
   "metadata": {},
   "outputs": [],
   "source": [
    "X_train, X_test, y_train, y_test = train_test_split(X, y, test_size=0.98, random_state=42)"
   ]
  },
  {
   "cell_type": "code",
   "execution_count": 7,
   "metadata": {},
   "outputs": [],
   "source": [
    "X_test, X_test1, y_test, y_test1 = train_test_split(X_test, y_test, test_size=0.98, random_state=43)"
   ]
  },
  {
   "cell_type": "code",
   "execution_count": 8,
   "metadata": {},
   "outputs": [
    {
     "name": "stdout",
     "output_type": "stream",
     "text": [
      "Número de datos de entrenamiento:  6950\n",
      "Número de datos de validación:  6811\n"
     ]
    }
   ],
   "source": [
    "print(\"Número de datos de entrenamiento: \", X_train.shape[0])\n",
    "print(\"Número de datos de validación: \", X_test.shape[0])"
   ]
  },
  {
   "cell_type": "code",
   "execution_count": 9,
   "metadata": {},
   "outputs": [],
   "source": [
    "svmlinear = svm.LinearSVC(C=100,max_iter=100000, dual=False)\n",
    "svm_model = modelo(X_train, y_train, numerical, categorical, svmlinear)"
   ]
  },
  {
   "cell_type": "markdown",
   "metadata": {},
   "source": [
    "Vemos rápidamente con un accuracy qué tan bien clasifica el modelo los datos de validación:"
   ]
  },
  {
   "cell_type": "code",
   "execution_count": 10,
   "metadata": {},
   "outputs": [
    {
     "name": "stdout",
     "output_type": "stream",
     "text": [
      "Precisión del modelo SVM:  0.7536338276317721\n"
     ]
    }
   ],
   "source": [
    "y_p = svm_model.predict(X_test)\n",
    "acc_svm = accuracy_score(y_test, y_p)\n",
    "print(\"Precisión del modelo SVM: \", acc_svm)"
   ]
  },
  {
   "cell_type": "markdown",
   "metadata": {},
   "source": [
    "### c) Compare su resultado de ese mismo subconjunto contra un modelo de regresión logı́stica."
   ]
  },
  {
   "cell_type": "markdown",
   "metadata": {},
   "source": [
    "Obtenemos el ajuste de un modelo logístico sin optimizar hiperparámetros primero, luego con una optimización de hiperparámetros."
   ]
  },
  {
   "cell_type": "code",
   "execution_count": 11,
   "metadata": {},
   "outputs": [],
   "source": [
    "reglog = LogisticRegression(fit_intercept = True, C=2.5,\n",
    "                            solver='lbfgs', tol=1e-5, max_iter=75,\n",
    "                            n_jobs = 8)\n",
    "reglog_model = modelo(X_train, y_train, numerical, categorical, reglog)"
   ]
  },
  {
   "cell_type": "markdown",
   "metadata": {},
   "source": [
    "Vemos qué tal lo hace este modelo y compararemos contra la SVM"
   ]
  },
  {
   "cell_type": "code",
   "execution_count": 12,
   "metadata": {},
   "outputs": [
    {
     "name": "stdout",
     "output_type": "stream",
     "text": [
      "Precisión del modelo de Regresión Logística:  0.7573043605931581\n"
     ]
    }
   ],
   "source": [
    "y_p = reglog_model.predict(X_test)\n",
    "acc_log = accuracy_score(y_test, y_p)\n",
    "print(\"Precisión del modelo de Regresión Logística: \", acc_log)"
   ]
  },
  {
   "cell_type": "markdown",
   "metadata": {},
   "source": [
    "En este caso ambos modelos de tienen una precisión muy similar, pero el SVM lo hace ligeramente mejor (pero sólo como por 0.5%)"
   ]
  },
  {
   "cell_type": "code",
   "execution_count": 13,
   "metadata": {},
   "outputs": [],
   "source": [
    "def gridsearch_log():\n",
    "    clf = LogisticRegression(fit_intercept=True,solver='lbfgs',tol=1e-5,max_iter=75,n_jobs=8)\n",
    "    grid_values = {'penalty': [ 'l2'],'C':np.logspace(-5, 5, 100)}\n",
    "    grid_clf_acc = GridSearchCV(clf, param_grid = grid_values,scoring = 'accuracy')\n",
    "    return grid_clf_acc"
   ]
  },
  {
   "cell_type": "code",
   "execution_count": 14,
   "metadata": {},
   "outputs": [],
   "source": [
    "gr = gridsearch_log()\n",
    "reglog_opt = modelo(X_train, y_train, numerical, categorical, gr)"
   ]
  },
  {
   "cell_type": "code",
   "execution_count": 15,
   "metadata": {},
   "outputs": [
    {
     "name": "stdout",
     "output_type": "stream",
     "text": [
      "Precisión del modelo de Regresión Logística optimizado:  0.7574511819116135\n"
     ]
    }
   ],
   "source": [
    "y_p = reglog_opt.predict(X_test)\n",
    "acc_log = accuracy_score(y_test, y_p)\n",
    "print(\"Precisión del modelo de Regresión Logística optimizado: \", acc_log)"
   ]
  },
  {
   "cell_type": "markdown",
   "metadata": {},
   "source": [
    "Lo hace ligeramente mejor, pero el resultado es esencialmente el mismo, una precisón de alrededor de 75.7%."
   ]
  },
  {
   "cell_type": "markdown",
   "metadata": {},
   "source": [
    "### d) De los modelos anteriores obtenga la matriz de confusión y la curva ROC."
   ]
  },
  {
   "cell_type": "markdown",
   "metadata": {},
   "source": [
    "**Matrices de Confusión**"
   ]
  },
  {
   "cell_type": "code",
   "execution_count": 16,
   "metadata": {},
   "outputs": [],
   "source": [
    "def plot_cm(model, X_test, y_test, title):\n",
    "    disp=plot_confusion_matrix(model, X_test, y_test,\n",
    "                               normalize=\"pred\",\n",
    "                               display_labels=np.array([\"NO\",\"SI\"]))\n",
    "    disp.ax_.set_title(title)\n",
    "    disp.confusion_matrix"
   ]
  },
  {
   "cell_type": "code",
   "execution_count": 17,
   "metadata": {},
   "outputs": [
    {
     "data": {
      "image/png": "[encoded data removed]",
      "text/plain": [
       "<Figure size 432x288 with 2 Axes>"
      ]
     },
     "metadata": {
      "needs_background": "light"
     },
     "output_type": "display_data"
    }
   ],
   "source": [
    "plot_cm(reglog_opt, X_test, y_test, \"Matriz de Confusión del Modelo Logístico\")"
   ]
  },
  {
   "cell_type": "code",
   "execution_count": 18,
   "metadata": {},
   "outputs": [
    {
     "data": {
      "image/png": "[encoded data removed]",
      "text/plain": [
       "<Figure size 432x288 with 2 Axes>"
      ]
     },
     "metadata": {
      "needs_background": "light"
     },
     "output_type": "display_data"
    }
   ],
   "source": [
    "plot_cm(svm_model, X_test, y_test, \"Matriz de Confusión del SVM\")"
   ]
  },
  {
   "cell_type": "markdown",
   "metadata": {},
   "source": [
    "Al realizar este análisis vemos que ambos clasificadores se están equivocando prácticamente en lo mismo. De hecho, en general, salvo cambios ligeros de 0.01 están clasificando en cantidades muy similares a los datos."
   ]
  },
  {
   "cell_type": "markdown",
   "metadata": {},
   "source": [
    "**Curvas ROC**"
   ]
  },
  {
   "cell_type": "code",
   "execution_count": 19,
   "metadata": {},
   "outputs": [],
   "source": [
    "# Función auxiliar para no repetir el código de gráficación de ROC.\n",
    "def plot_roc(names, y_test, y_preds):\n",
    "    fig = plt.figure(figsize=(10, 5*len(names)))\n",
    "    index = 1\n",
    "    for name in names:\n",
    "        fpr, tpr, threshold = metrics.roc_curve(y_test, y_preds[index-1])\n",
    "        roc_auc = metrics.auc(fpr, tpr)\n",
    "        fpr, tpr, threshold = metrics.roc_curve(y_test, y_preds[index-1])\n",
    "        ax = fig.add_subplot(2, len(names), index)\n",
    "        ax.plot(fpr, tpr, label=f\"ROC {name}  (area = {roc_auc:0.2f})\")\n",
    "        # Identidad\n",
    "        ax.plot([0, 1], [0, 1],'r--')\n",
    "        ax.set_xlim([0.0, 1.0])\n",
    "        ax.set_ylim([0.0, 1.05])\n",
    "        ax.set_xlabel('Tasa de falsos positivos')\n",
    "        ax.set_ylabel('Tasa de verdaderos positivos')\n",
    "        ax.set_title(f\"curva ROC {name}\")\n",
    "        ax.legend(loc=\"lower right\")\n",
    "        index+=1\n",
    "    plt.tight_layout()\n",
    "    plt.show()"
   ]
  },
  {
   "cell_type": "markdown",
   "metadata": {},
   "source": [
    "Obtenemos las predicciones de ambos modelos:"
   ]
  },
  {
   "cell_type": "code",
   "execution_count": 20,
   "metadata": {},
   "outputs": [],
   "source": [
    "y_preds_log = reglog_opt.predict_proba(X_test)[:,1]\n",
    "# LinearSVC no probee de un método para obtener las probabilidades, por lo que \n",
    "# nuestra curva ROC tendrá que hacerse con las etiquetas, y consistirá de dos líneas únicamente.\n",
    "y_preds_svm = svm_model.predict(X_test)\n",
    "y_preds_all = [y_preds_log, y_preds_svm]"
   ]
  },
  {
   "cell_type": "code",
   "execution_count": 21,
   "metadata": {},
   "outputs": [
    {
     "data": {
      "image/png": "[encoded data removed]",
      "text/plain": [
       "<Figure size 720x720 with 2 Axes>"
      ]
     },
     "metadata": {
      "needs_background": "light"
     },
     "output_type": "display_data"
    }
   ],
   "source": [
    "plot_roc([\"Regresión Logística\", \"SVM\"], y_test, y_preds_all)"
   ]
  },
  {
   "cell_type": "markdown",
   "metadata": {},
   "source": [
    "Al analizar las curvas, vemos que si bien en precisión la SVM no se veía tan mal, su desempeño sí es notablemente menor al de la regresión logística optimizada, aunque probablemente sea porque no podemos acceder a las probabilidades detrás de la decisión de la clasificación de este modelo."
   ]
  },
  {
   "cell_type": "code",
   "execution_count": 22,
   "metadata": {},
   "outputs": [],
   "source": [
    "def print_stats(model, name, X_test, y_test):\n",
    "    predictions=model.predict(X_test)\n",
    "    print(f'Accuracy score {name}: ', format(accuracy_score(y_test, predictions)))\n",
    "    print(f'Precision score {name}: ', format(precision_score(y_test, predictions)))\n",
    "    print(f'Recall score {name}: ', format(recall_score(y_test, predictions)))\n",
    "    print(f'F1 score {name}: ', format(f1_score(y_test, predictions)))"
   ]
  },
  {
   "cell_type": "code",
   "execution_count": 23,
   "metadata": {},
   "outputs": [
    {
     "name": "stdout",
     "output_type": "stream",
     "text": [
      "Accuracy score Logística:  0.7574511819116135\n",
      "Precision score Logística:  0.627431906614786\n",
      "Recall score Logística:  0.33699059561128525\n",
      "F1 score Logística:  0.4384772263766145\n"
     ]
    }
   ],
   "source": [
    "print_stats(reglog_opt, \"Logística\", X_test, y_test)"
   ]
  },
  {
   "cell_type": "code",
   "execution_count": 24,
   "metadata": {},
   "outputs": [
    {
     "name": "stdout",
     "output_type": "stream",
     "text": [
      "Accuracy score SVM:  0.7536338276317721\n",
      "Precision score SVM:  0.615686274509804\n",
      "Recall score SVM:  0.3281086729362591\n",
      "F1 score SVM:  0.4280845262440354\n"
     ]
    }
   ],
   "source": [
    "print_stats(svm_model, \"SVM\", X_test, y_test)"
   ]
  },
  {
   "cell_type": "markdown",
   "metadata": {},
   "source": [
    "### e) Haga una optimización de hiperpametros priorizando la precisión."
   ]
  },
  {
   "cell_type": "markdown",
   "metadata": {},
   "source": [
    "Ahora es momento de ver qué tanto podemos mejorar la svm con optimización de hiperparámetros."
   ]
  },
  {
   "cell_type": "markdown",
   "metadata": {},
   "source": [
    "Los hiperparámetros que vamos a optimizar son:\n",
    "* C: Parámetro de regularización\n",
    "* max_iter, numero máximo de iteraciones.\n",
    "* penalty, la función de penalización (l2 o l1)\n",
    "\n",
    "Los que dejaremos fijos son:\n",
    "* dual = False; siguiendo la recomendación de la documentación, que sugieren usar así este parámetro cuando n_features < n_observaciones, además de que aligera la complejidad bastante. "
   ]
  },
  {
   "cell_type": "code",
   "execution_count": 26,
   "metadata": {},
   "outputs": [],
   "source": [
    "def gridsearch_svm():\n",
    "    clf = svm.LinearSVC(dual=False)\n",
    "    grid_values = {'C':np.logspace(-2, 3, 25), 'penalty':['l2', 'l1'],\n",
    "                   'max_iter': [100_000, 150_000]}\n",
    "    grid_clf_acc = GridSearchCV(clf, param_grid = grid_values, scoring = 'accuracy')\n",
    "    return grid_clf_acc"
   ]
  },
  {
   "cell_type": "code",
   "execution_count": 27,
   "metadata": {},
   "outputs": [],
   "source": [
    "svm_hyper = gridsearch_svm()\n",
    "svm_opt = modelo(X_train, y_train, numerical, categorical, svm_hyper)"
   ]
  },
  {
   "cell_type": "code",
   "execution_count": 28,
   "metadata": {},
   "outputs": [
    {
     "name": "stdout",
     "output_type": "stream",
     "text": [
      "Precisión del modelo de SVM optimizado:  0.7533401849948612\n"
     ]
    }
   ],
   "source": [
    "y_p = svm_opt.predict(X_test)\n",
    "acc_svm_opt = accuracy_score(y_test, y_p)\n",
    "print(\"Precisión del modelo de SVM optimizado: \", acc_svm_opt)"
   ]
  },
  {
   "cell_type": "markdown",
   "metadata": {},
   "source": [
    "### f) Para el modelo logístico: Haga una gráfica de Precision-Recall vs Threshold"
   ]
  },
  {
   "cell_type": "code",
   "execution_count": 29,
   "metadata": {},
   "outputs": [
    {
     "data": {
      "text/plain": [
       "(0.0, 1.0)"
      ]
     },
     "execution_count": 29,
     "metadata": {},
     "output_type": "execute_result"
    },
    {
     "data": {
      "image/png": "[encoded data removed]",
      "text/plain": [
       "<Figure size 432x288 with 1 Axes>"
      ]
     },
     "metadata": {
      "needs_background": "light"
     },
     "output_type": "display_data"
    }
   ],
   "source": [
    "y_proba= reglog_opt.predict_proba(X_test)\n",
    "precision, recall, thresholds = precision_recall_curve(y_test, y_proba[:,1]) \n",
    "pr_auc = metrics.auc(recall, precision)\n",
    "plt.title(\"Precision-Recall vs Threshold, Modelo Logístico\")\n",
    "plt.plot(thresholds, precision[: -1], \"b--\", label=\"Precision\")\n",
    "plt.plot(thresholds, recall[: -1], \"r--\", label=\"Recall\")\n",
    "plt.ylabel(\"Precision, Recall\")\n",
    "plt.xlabel(\"Threshold\")\n",
    "plt.legend(loc=\"lower left\")\n",
    "plt.ylim([0,1])"
   ]
  },
  {
   "cell_type": "code",
   "execution_count": null,
   "metadata": {},
   "outputs": [],
   "source": []
  }
 ],
 "metadata": {
  "kernelspec": {
   "display_name": "Python 3",
   "language": "python",
   "name": "python3"
  },
  "language_info": {
   "codemirror_mode": {
    "name": "ipython",
    "version": 3
   },
   "file_extension": ".py",
   "mimetype": "text/x-python",
   "name": "python",
   "nbconvert_exporter": "python",
   "pygments_lexer": "ipython3",
   "version": "3.8.5"
  }
 },
 "nbformat": 4,
 "nbformat_minor": 4
}
