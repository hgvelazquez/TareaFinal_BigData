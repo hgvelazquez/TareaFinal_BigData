{
 "cells": [
  {
   "cell_type": "markdown",
   "metadata": {},
   "source": [
    "# Ejercicio 3. Árboles, Random Forest, Boosting y Bagging"
   ]
  },
  {
   "cell_type": "code",
   "execution_count": 1,
   "metadata": {},
   "outputs": [],
   "source": [
    "import pandas                  as     pd\n",
    "from   sklearn                 import tree\n",
    "import numpy                   as     np\n",
    "from   sklearn.metrics         import accuracy_score\n",
    "from   sklearn.model_selection import train_test_split,cross_val_score\n",
    "from   sklearn.ensemble        import BaggingClassifier,RandomForestClassifier\n",
    "from   sklearn.ensemble        import AdaBoostClassifier,GradientBoostingClassifier\n",
    "import matplotlib.pylab        as     plt \n",
    "from   sklearn.model_selection import GridSearchCV\n",
    "import sklearn"
   ]
  },
  {
   "cell_type": "markdown",
   "metadata": {},
   "source": [
    "Iniciamos cargando los datos:"
   ]
  },
  {
   "cell_type": "code",
   "execution_count": 2,
   "metadata": {},
   "outputs": [
    {
     "data": {
      "text/html": [
       "<div>\n",
       "<style scoped>\n",
       "    .dataframe tbody tr th:only-of-type {\n",
       "        vertical-align: middle;\n",
       "    }\n",
       "\n",
       "    .dataframe tbody tr th {\n",
       "        vertical-align: top;\n",
       "    }\n",
       "\n",
       "    .dataframe thead th {\n",
       "        text-align: right;\n",
       "    }\n",
       "</style>\n",
       "<table border=\"1\" class=\"dataframe\">\n",
       "  <thead>\n",
       "    <tr style=\"text-align: right;\">\n",
       "      <th></th>\n",
       "      <th>V1</th>\n",
       "      <th>V2</th>\n",
       "      <th>V3</th>\n",
       "      <th>V4</th>\n",
       "      <th>V5</th>\n",
       "      <th>V6</th>\n",
       "      <th>V7</th>\n",
       "      <th>V8</th>\n",
       "      <th>V9</th>\n",
       "      <th>V10</th>\n",
       "      <th>...</th>\n",
       "      <th>V52</th>\n",
       "      <th>V53</th>\n",
       "      <th>V54</th>\n",
       "      <th>V55</th>\n",
       "      <th>V56</th>\n",
       "      <th>V57</th>\n",
       "      <th>V58</th>\n",
       "      <th>V59</th>\n",
       "      <th>V60</th>\n",
       "      <th>Y</th>\n",
       "    </tr>\n",
       "  </thead>\n",
       "  <tbody>\n",
       "    <tr>\n",
       "      <th>0</th>\n",
       "      <td>0.0200</td>\n",
       "      <td>0.0371</td>\n",
       "      <td>0.0428</td>\n",
       "      <td>0.0207</td>\n",
       "      <td>0.0954</td>\n",
       "      <td>0.0986</td>\n",
       "      <td>0.1539</td>\n",
       "      <td>0.1601</td>\n",
       "      <td>0.3109</td>\n",
       "      <td>0.2111</td>\n",
       "      <td>...</td>\n",
       "      <td>0.0027</td>\n",
       "      <td>0.0065</td>\n",
       "      <td>0.0159</td>\n",
       "      <td>0.0072</td>\n",
       "      <td>0.0167</td>\n",
       "      <td>0.018</td>\n",
       "      <td>0.0084</td>\n",
       "      <td>0.0090</td>\n",
       "      <td>0.0032</td>\n",
       "      <td>R</td>\n",
       "    </tr>\n",
       "    <tr>\n",
       "      <th>1</th>\n",
       "      <td>0.0453</td>\n",
       "      <td>0.0523</td>\n",
       "      <td>0.0843</td>\n",
       "      <td>0.0689</td>\n",
       "      <td>0.1183</td>\n",
       "      <td>0.2583</td>\n",
       "      <td>0.2156</td>\n",
       "      <td>0.3481</td>\n",
       "      <td>0.3337</td>\n",
       "      <td>0.2872</td>\n",
       "      <td>...</td>\n",
       "      <td>0.0084</td>\n",
       "      <td>0.0089</td>\n",
       "      <td>0.0048</td>\n",
       "      <td>0.0094</td>\n",
       "      <td>0.0191</td>\n",
       "      <td>0.014</td>\n",
       "      <td>0.0049</td>\n",
       "      <td>0.0052</td>\n",
       "      <td>0.0044</td>\n",
       "      <td>R</td>\n",
       "    </tr>\n",
       "  </tbody>\n",
       "</table>\n",
       "<p>2 rows × 61 columns</p>\n",
       "</div>"
      ],
      "text/plain": [
       "       V1      V2      V3      V4      V5      V6      V7      V8      V9  \\\n",
       "0  0.0200  0.0371  0.0428  0.0207  0.0954  0.0986  0.1539  0.1601  0.3109   \n",
       "1  0.0453  0.0523  0.0843  0.0689  0.1183  0.2583  0.2156  0.3481  0.3337   \n",
       "\n",
       "      V10  ...     V52     V53     V54     V55     V56    V57     V58     V59  \\\n",
       "0  0.2111  ...  0.0027  0.0065  0.0159  0.0072  0.0167  0.018  0.0084  0.0090   \n",
       "1  0.2872  ...  0.0084  0.0089  0.0048  0.0094  0.0191  0.014  0.0049  0.0052   \n",
       "\n",
       "      V60  Y  \n",
       "0  0.0032  R  \n",
       "1  0.0044  R  \n",
       "\n",
       "[2 rows x 61 columns]"
      ]
     },
     "execution_count": 2,
     "metadata": {},
     "output_type": "execute_result"
    }
   ],
   "source": [
    "data=pd.read_csv('sonar.csv',sep=',',header=0)\n",
    "data.shape\n",
    "data.head(2)"
   ]
  },
  {
   "cell_type": "markdown",
   "metadata": {},
   "source": [
    "Verifiquemos que las etiquetas de los datos sean correctas o si hay que eliminar renglones:"
   ]
  },
  {
   "cell_type": "code",
   "execution_count": 3,
   "metadata": {},
   "outputs": [
    {
     "name": "stdout",
     "output_type": "stream",
     "text": [
      "['M' 'R']\n"
     ]
    }
   ],
   "source": [
    "print(np.unique(data[\"Y\"]))"
   ]
  },
  {
   "cell_type": "code",
   "execution_count": 4,
   "metadata": {},
   "outputs": [
    {
     "name": "stdout",
     "output_type": "stream",
     "text": [
      "Número de datos de rebote en metal:  111\n",
      "Número de datos de rebote en rocas:  97\n"
     ]
    }
   ],
   "source": [
    "print(\"Número de datos de rebote en metal: \", len(data[data[\"Y\"]=='M']))\n",
    "print(\"Número de datos de rebote en rocas: \", len(data[data[\"Y\"]=='R']))"
   ]
  },
  {
   "cell_type": "markdown",
   "metadata": {},
   "source": [
    "Hacemos un split en datos de entrenamiento y validación en una proporción de 70-30"
   ]
  },
  {
   "cell_type": "code",
   "execution_count": 5,
   "metadata": {},
   "outputs": [],
   "source": [
    "Y = data.pop(\"Y\")\n",
    "X = data\n",
    "X_train, X_test, y_train, y_test = train_test_split(X, Y, test_size=0.30, random_state=42)"
   ]
  },
  {
   "cell_type": "markdown",
   "metadata": {},
   "source": [
    "### Inciso a). Ajuste un modelo de árbol de clasificación para predecir la variable de respuesta, si es una roca o una mina.\n",
    "\n",
    "Entonces, primero ajustamos un árbol solo con el método, tree.DecisionTreeClassifier, sin restringir \n",
    "la profundidad máxima o el número máximo de hojas. La optimización con las restricciones a estos parámetros +\n",
    "las realizamos después. "
   ]
  },
  {
   "cell_type": "code",
   "execution_count": 6,
   "metadata": {},
   "outputs": [],
   "source": [
    "tr=tree.DecisionTreeClassifier(criterion=\"gini\")\n",
    "trf=tr.fit(X_train,y_train)"
   ]
  },
  {
   "cell_type": "code",
   "execution_count": 7,
   "metadata": {},
   "outputs": [
    {
     "name": "stdout",
     "output_type": "stream",
     "text": [
      "Porcentaje de datos bien clasificados:  0.6984126984126984\n"
     ]
    }
   ],
   "source": [
    "ypred=trf.predict(X_test)\n",
    "print(\"Porcentaje de datos bien clasificados: \", accuracy_score(y_test,ypred))"
   ]
  },
  {
   "cell_type": "markdown",
   "metadata": {},
   "source": [
    "Permitiendo que el número máximo de nodos y de hojas crezca de forma indefinida llegamos solamente a un 69.8% de accuracy, por lo que sí conviene realizar la optimización de hiperparámetros del siguiente inciso."
   ]
  },
  {
   "cell_type": "code",
   "execution_count": 8,
   "metadata": {},
   "outputs": [
    {
     "name": "stdout",
     "output_type": "stream",
     "text": [
      "Profundidad máxima del árbol:  5\n",
      "Número de hojas del árbol:  13\n",
      "Número de nodos del árbol:  25\n"
     ]
    }
   ],
   "source": [
    "print(\"Profundidad máxima del árbol: \", tr.tree_.max_depth)\n",
    "print(\"Número de hojas del árbol: \", tr.tree_.n_leaves)\n",
    "print(\"Número de nodos del árbol: \", tr.tree_.node_count)"
   ]
  },
  {
   "cell_type": "markdown",
   "metadata": {},
   "source": [
    "### Inciso b) Haga optimización de hiperparametros, variando los la profundidad del árbol, el máximo número de nodos hojas y el criterio de impureza."
   ]
  },
  {
   "cell_type": "markdown",
   "metadata": {},
   "source": [
    "Definimos las profundidades máximas que permitiremos en la búsqueda. Como sin restricciones llegamos a 7, vamos a considerar un de [4, 11]"
   ]
  },
  {
   "cell_type": "code",
   "execution_count": 9,
   "metadata": {},
   "outputs": [],
   "source": [
    "depths_to_search = [i for i in range(4,12)]"
   ]
  },
  {
   "cell_type": "markdown",
   "metadata": {},
   "source": [
    "El rango para el número de hojas máximo lo tomaremos desde [5,40], para permitir un rango de búsqueda en donde pueda crecer un  poco más debido a las otras restricciones. "
   ]
  },
  {
   "cell_type": "code",
   "execution_count": 10,
   "metadata": {},
   "outputs": [],
   "source": [
    "max_leafs_to_search = [i for i in range(5, 41)]"
   ]
  },
  {
   "cell_type": "markdown",
   "metadata": {},
   "source": [
    "Definidos los parámetros de la búsqueda para la optimización de los hiperparámetros, ejecutamos la búsqueda:"
   ]
  },
  {
   "cell_type": "code",
   "execution_count": 11,
   "metadata": {},
   "outputs": [
    {
     "data": {
      "text/plain": [
       "GridSearchCV(estimator=DecisionTreeClassifier(),\n",
       "             param_grid={'criterion': ['gini', 'entropy'],\n",
       "                         'max_depth': [4, 5, 6, 7, 8, 9, 10, 11],\n",
       "                         'max_leaf_nodes': [5, 6, 7, 8, 9, 10, 11, 12, 13, 14,\n",
       "                                            15, 16, 17, 18, 19, 20, 21, 22, 23,\n",
       "                                            24, 25, 26, 27, 28, 29, 30, 31, 32,\n",
       "                                            33, 34, ...]},\n",
       "             scoring='accuracy')"
      ]
     },
     "execution_count": 11,
     "metadata": {},
     "output_type": "execute_result"
    }
   ],
   "source": [
    "depths_to_search\n",
    "\n",
    "param_grid = {\n",
    "    'max_depth' : depths_to_search,\n",
    "    'max_leaf_nodes' : max_leafs_to_search,\n",
    "    'criterion':[\"gini\", \"entropy\"] # gini o entropy son las únicas opciones del método en sklearn \n",
    "}\n",
    "model = GridSearchCV(tree.DecisionTreeClassifier(),param_grid, scoring = 'accuracy')\n",
    "model.fit(X_train, y_train)"
   ]
  },
  {
   "cell_type": "markdown",
   "metadata": {},
   "source": [
    "Analizamos los resultados obtenidos con esta optimización:"
   ]
  },
  {
   "cell_type": "code",
   "execution_count": 12,
   "metadata": {},
   "outputs": [
    {
     "name": "stdout",
     "output_type": "stream",
     "text": [
      "model score: 0.778\n",
      "hiperparametros:  {'criterion': 'gini', 'max_depth': 6, 'max_leaf_nodes': 22}\n"
     ]
    }
   ],
   "source": [
    "print(\"model score: %.3f\" % model.score(X_test, y_test))\n",
    "print (\"hiperparametros: \",str(model.best_params_))"
   ]
  },
  {
   "cell_type": "markdown",
   "metadata": {},
   "source": [
    "Observamos que la precisión aumenta en aproximadamente 8%, que es bastante bueno. Pasó del 69.8% al 77.8%"
   ]
  },
  {
   "cell_type": "code",
   "execution_count": 13,
   "metadata": {},
   "outputs": [],
   "source": [
    "# Nos quedamos con el mejor estimador en lugar del árbol inicial que teníamos.\n",
    "tr = model.best_estimator_"
   ]
  },
  {
   "cell_type": "markdown",
   "metadata": {},
   "source": [
    "### c) Haga un análisis costo complejidad y gráfique ccp alpha vs impureza, numero de nodos hoja, y finalmente la gráfica de alpha vs accuracy en la muestra de entrenamiento y de prueba. ¿Qué concluye acerca del valor de ccp alpha?"
   ]
  },
  {
   "cell_type": "markdown",
   "metadata": {},
   "source": [
    "Iniciamos ejecutando el análisis de costo complejidad:"
   ]
  },
  {
   "cell_type": "code",
   "execution_count": 36,
   "metadata": {},
   "outputs": [],
   "source": [
    "path = tr.cost_complexity_pruning_path(X_train, y_train)\n",
    "ccp_alphas, impurities = path.ccp_alphas, path.impurities"
   ]
  },
  {
   "cell_type": "markdown",
   "metadata": {},
   "source": [
    "#### Gráfica de ccp-$\\alpha$ vs impureza:"
   ]
  },
  {
   "cell_type": "code",
   "execution_count": 37,
   "metadata": {
    "scrolled": true
   },
   "outputs": [
    {
     "data": {
      "text/plain": [
       "Text(0.5, 1.0, 'Acercamiento CCP Alfa vs Impureza, menos el último dato')"
      ]
     },
     "execution_count": 37,
     "metadata": {},
     "output_type": "execute_result"
    },
    {
     "data": {
      "image/png": "[encoded data removed]",
      "text/plain": [
       "<Figure size 864x288 with 2 Axes>"
      ]
     },
     "metadata": {
      "needs_background": "light"
     },
     "output_type": "display_data"
    }
   ],
   "source": [
    "fig, (ax1, ax2) = plt.subplots(1,2, figsize=(12,4))\n",
    "fig.subplots_adjust(wspace=1)\n",
    "\n",
    "ax1.plot(ccp_alphas, impurities, marker='o', drawstyle=\"steps-post\")\n",
    "ax1.set_xlabel(\"CCP alfa\")\n",
    "ax1.set_ylabel(\"Total de Impureza\")\n",
    "ax1.set_title(\"CCP Alfa vs Impureza\")\n",
    "\n",
    "ax2.plot(ccp_alphas[:-1], impurities[:-1], marker='o', drawstyle=\"steps-post\")\n",
    "ax2.set_xlabel(\"CCP alfa\")\n",
    "ax2.set_ylabel(\"Total de Impureza\")\n",
    "ax2.set_title(\"Acercamiento CCP Alfa vs Impureza, menos el último dato\")"
   ]
  },
  {
   "cell_type": "code",
   "execution_count": 38,
   "metadata": {},
   "outputs": [
    {
     "data": {
      "text/plain": [
       "Text(0.5, 1.0, 'Acercamiento CCP Alfa vs Impureza, menos el último dato')"
      ]
     },
     "execution_count": 38,
     "metadata": {},
     "output_type": "execute_result"
    },
    {
     "data": {
      "image/png": "[encoded data removed]",
      "text/plain": [
       "<Figure size 864x288 with 2 Axes>"
      ]
     },
     "metadata": {
      "needs_background": "light"
     },
     "output_type": "display_data"
    }
   ],
   "source": [
    "fig, (ax1, ax2) = plt.subplots(1,2, figsize=(12,4))\n",
    "fig.subplots_adjust(wspace=1)\n",
    "\n",
    "ax1.plot(ccp_alphas, impurities, marker='o', drawstyle=\"steps-post\")\n",
    "ax1.set_xlabel(\"CCP alfa\")\n",
    "ax1.set_ylabel(\"Total de Impureza\")\n",
    "ax1.set_title(\"CCP Alfa vs Impureza\")\n",
    "\n",
    "ax2.plot(ccp_alphas[:-1], impurities[:-1], marker='o', drawstyle=\"steps-post\")\n",
    "ax2.set_xlabel(\"CCP alfa\")\n",
    "ax2.set_ylabel(\"Total de Impureza\")\n",
    "ax2.set_title(\"Acercamiento CCP Alfa vs Impureza, menos el último dato\")"
   ]
  },
  {
   "cell_type": "markdown",
   "metadata": {},
   "source": [
    "Para los análisis siguientes, obtenemos los árboles en cada paso intermedio:"
   ]
  },
  {
   "cell_type": "code",
   "execution_count": 39,
   "metadata": {},
   "outputs": [],
   "source": [
    "models = []\n",
    "for ccp_alpha in ccp_alphas:\n",
    "    mod = tree.DecisionTreeClassifier(random_state=0, ccp_alpha=ccp_alpha)\n",
    "    mod.fit(X_train, y_train)\n",
    "    models.append(mod)"
   ]
  },
  {
   "cell_type": "markdown",
   "metadata": {},
   "source": [
    "#### Gráfica de ccp-$\\alpha$ vs número de nodos hoja:"
   ]
  },
  {
   "cell_type": "code",
   "execution_count": 40,
   "metadata": {},
   "outputs": [
    {
     "data": {
      "text/plain": [
       "Text(0.5, 1.0, 'CCP Alfa vs Nodos Hoja, menos el último dato')"
      ]
     },
     "execution_count": 40,
     "metadata": {},
     "output_type": "execute_result"
    },
    {
     "data": {
      "image/png": "[encoded data removed]",
      "text/plain": [
       "<Figure size 864x288 with 2 Axes>"
      ]
     },
     "metadata": {
      "needs_background": "light"
     },
     "output_type": "display_data"
    }
   ],
   "source": [
    "node_counts = [mod.tree_.node_count for mod in models]\n",
    "fig, (ax1, ax2) = plt.subplots(1,2, figsize=(12,4))\n",
    "fig.subplots_adjust(wspace=1)\n",
    "\n",
    "ax1.plot(ccp_alphas, node_counts, marker='o', drawstyle=\"steps-post\")\n",
    "ax1.set_xlabel(\"CCP alfa\")\n",
    "ax1.set_ylabel(\"Nodos hoja\")\n",
    "ax1.set_title(\"CCP Alfa vs Nodos Hoja\")\n",
    "\n",
    "ax2.plot(ccp_alphas[:-1], node_counts[:-1], marker='o', drawstyle=\"steps-post\")\n",
    "ax2.set_xlabel(\"CCP alfa\")\n",
    "ax2.set_ylabel(\"Nodos Hoja\")\n",
    "ax2.set_title(\"CCP Alfa vs Nodos Hoja, menos el último dato\")"
   ]
  },
  {
   "cell_type": "markdown",
   "metadata": {},
   "source": [
    "#### Gráfica de ccp-$\\alpha$ vs profundidades:"
   ]
  },
  {
   "cell_type": "code",
   "execution_count": 41,
   "metadata": {},
   "outputs": [
    {
     "data": {
      "text/plain": [
       "Text(0.5, 1.0, 'CCP Alfa vs Profundidad, menos el último dato')"
      ]
     },
     "execution_count": 41,
     "metadata": {},
     "output_type": "execute_result"
    },
    {
     "data": {
      "image/png": "[encoded data removed]",
      "text/plain": [
       "<Figure size 864x288 with 2 Axes>"
      ]
     },
     "metadata": {
      "needs_background": "light"
     },
     "output_type": "display_data"
    }
   ],
   "source": [
    "depths = [mod.tree_.max_depth for mod in models]\n",
    "fig, (ax1, ax2) = plt.subplots(1,2, figsize=(12,4))\n",
    "fig.subplots_adjust(wspace=1)\n",
    "\n",
    "ax1.plot(ccp_alphas, depths, marker='o', drawstyle=\"steps-post\")\n",
    "ax1.set_xlabel(\"CCP alfa\")\n",
    "ax1.set_ylabel(\"Profundidas\")\n",
    "ax1.set_title(\"CCP Alfa vs Profunidad\")\n",
    "\n",
    "ax2.plot(ccp_alphas[:-1], node_counts[:-1], marker='o', drawstyle=\"steps-post\")\n",
    "ax2.set_xlabel(\"CCP alfa\")\n",
    "ax2.set_ylabel(\"Profundidad\")\n",
    "ax2.set_title(\"CCP Alfa vs Profundidad, menos el último dato\")"
   ]
  },
  {
   "cell_type": "markdown",
   "metadata": {},
   "source": [
    "#### Gráfica de ccp-$\\alpha$ vs el accuracy de entrenamiento y de validación:"
   ]
  },
  {
   "cell_type": "code",
   "execution_count": 42,
   "metadata": {},
   "outputs": [
    {
     "data": {
      "image/png": "[encoded data removed]",
      "text/plain": [
       "<Figure size 432x288 with 1 Axes>"
      ]
     },
     "metadata": {
      "needs_background": "light"
     },
     "output_type": "display_data"
    }
   ],
   "source": [
    "train_scores = [mod.score(X_train, y_train) for mod in models[:-1]]\n",
    "test_scores = [mod.score(X_test, y_test) for mod in models[:-1]]\n",
    "\n",
    "fig, ax = plt.subplots()\n",
    "ax.set_xlabel(\"alpha\")\n",
    "ax.set_ylabel(\"accuracy\")\n",
    "ax.set_title(\"Accuracy vs alpha para datos de training y test\")\n",
    "ax.plot(ccp_alphas[1:8], train_scores[1:8], marker='o', color='b', label=\"train\",\n",
    "        drawstyle=\"steps-post\")\n",
    "ax.plot(ccp_alphas[1:8], test_scores[1:8], marker='o', color='g', label=\"test\",\n",
    "        drawstyle=\"steps-post\")\n",
    "ax.legend()\n",
    "plt.show()"
   ]
  },
  {
   "cell_type": "code",
   "execution_count": 43,
   "metadata": {},
   "outputs": [
    {
     "name": "stdout",
     "output_type": "stream",
     "text": [
      "[0.         0.01182266 0.01343943 0.01347962 0.02206897 0.03310345\n",
      " 0.0352126  0.03819629 0.0431675  0.15884169]\n"
     ]
    }
   ],
   "source": [
    "print(ccp_alphas)"
   ]
  },
  {
   "cell_type": "markdown",
   "metadata": {},
   "source": [
    "**Para concluir el análisis del valor de alpha:**\n",
    "\n",
    "Aunque podemos ver que el modelo sigue sobreajustado (lo cual quiere decir que probablemente la poda es insuficiente para mitigarlo en este caso), pues vemos que aún sigue habiendo una diferencia de alrededor de 10% entre el accuracy de los datos de entrenamiento y los de validación; el valor óptimo de alpha en este caso sería **0.331** ya que es el punto donde la distancia entre ambas medidas se minimiza."
   ]
  },
  {
   "cell_type": "markdown",
   "metadata": {},
   "source": [
    "### d) Ajuste un modelo de Random Forest, Bagging y Boosting a los datos de sonar."
   ]
  },
  {
   "cell_type": "markdown",
   "metadata": {},
   "source": [
    "En este caso no se nos pide una optimización de hiperparámetros, por lo cual haremos el ajuste a cada uno de estos modelos usando ya sea los hiperparámetros por defecto en los métodos de python, o valores elegidos arbitrariamente dentro de un rango razonable."
   ]
  },
  {
   "cell_type": "markdown",
   "metadata": {},
   "source": [
    "**Iniciamos ajustando un modelo de RandomForest**"
   ]
  },
  {
   "cell_type": "markdown",
   "metadata": {},
   "source": [
    "Elegimos como profundidad máxima de los árboles del bosque 7, pues el árbol que resultó de optimizar los hiperparámetros tiene profundidad de 6.\n",
    "\n",
    "Esto da la oportunidad a tener árboles bien ajustados, pero también con buena variabilidad."
   ]
  },
  {
   "cell_type": "code",
   "execution_count": 44,
   "metadata": {},
   "outputs": [
    {
     "data": {
      "text/plain": [
       "RandomForestClassifier(max_depth=7, random_state=42)"
      ]
     },
     "execution_count": 44,
     "metadata": {},
     "output_type": "execute_result"
    }
   ],
   "source": [
    "randomForest = RandomForestClassifier(max_depth=7,n_estimators=100, random_state=42)\n",
    "randomForest.fit(X_train, y_train)"
   ]
  },
  {
   "cell_type": "markdown",
   "metadata": {},
   "source": [
    "Calculamos el accuracy sobre los datos de validación para ver qué también ajustó el modelo."
   ]
  },
  {
   "cell_type": "code",
   "execution_count": 46,
   "metadata": {},
   "outputs": [
    {
     "name": "stdout",
     "output_type": "stream",
     "text": [
      "Test Accuracy:  0.873015873015873\n"
     ]
    }
   ],
   "source": [
    "y_forest=randomForest.predict(X_test)\n",
    "print('Test Accuracy: ', accuracy_score(y_test,y_forest))"
   ]
  },
  {
   "cell_type": "markdown",
   "metadata": {},
   "source": [
    "Tenemos una precisión de 87%, lo cual supera bastante a la obtenida con el modelo de árbol simple (77.8%)."
   ]
  },
  {
   "cell_type": "markdown",
   "metadata": {},
   "source": [
    "**Ajustamos ahora un modelo de Bagging**"
   ]
  },
  {
   "cell_type": "markdown",
   "metadata": {},
   "source": [
    "Elegimos como número de clasificadores 80. La máxima profundidad posible del árbol la dejamos en 7 como la vez pasada."
   ]
  },
  {
   "cell_type": "code",
   "execution_count": 61,
   "metadata": {},
   "outputs": [
    {
     "data": {
      "text/plain": [
       "BaggingClassifier(base_estimator=DecisionTreeClassifier(max_depth=7),\n",
       "                  n_estimators=80, random_state=84)"
      ]
     },
     "execution_count": 61,
     "metadata": {},
     "output_type": "execute_result"
    }
   ],
   "source": [
    "cart=tree.DecisionTreeClassifier(max_depth=7)\n",
    "n_trees=80\n",
    "baggingModel=BaggingClassifier(base_estimator=cart,n_estimators=n_trees,random_state=42*2)\n",
    "baggingModel.fit(X_train,y_train)"
   ]
  },
  {
   "cell_type": "markdown",
   "metadata": {},
   "source": [
    "Calculamos el accuracy sobre los datos de validación para ver qué también ajustó el modelo."
   ]
  },
  {
   "cell_type": "code",
   "execution_count": 62,
   "metadata": {},
   "outputs": [
    {
     "name": "stdout",
     "output_type": "stream",
     "text": [
      "Test Accuracy:  0.8412698412698413\n"
     ]
    }
   ],
   "source": [
    "y_bag=baggingModel.predict(X_test)\n",
    "print('Test Accuracy: ', accuracy_score(y_test,y_bag))"
   ]
  },
  {
   "cell_type": "markdown",
   "metadata": {},
   "source": [
    "Vemos que este modelo, sin optimización de hiperparámetros, lo sigue haciendo mejor que el modelo de árbol, aunque ligeramente peor que el bosque aleatorio."
   ]
  },
  {
   "cell_type": "markdown",
   "metadata": {},
   "source": [
    "**Finalmente, ajustemos un modelo de Boosting. Elegimos GradientBoosting en este caso**"
   ]
  },
  {
   "cell_type": "markdown",
   "metadata": {},
   "source": [
    "Elegimos dejar los hiperparámetros como el learning_rate en su valor por defecto. Dejamos el número de estimadores en 100. Para reproducibilidad, fijamos la semilla del valor aleatorio como en los casos anteriores; esta vez con un valor de 42*3"
   ]
  },
  {
   "cell_type": "code",
   "execution_count": 82,
   "metadata": {},
   "outputs": [
    {
     "data": {
      "text/plain": [
       "GradientBoostingClassifier(random_state=126)"
      ]
     },
     "execution_count": 82,
     "metadata": {},
     "output_type": "execute_result"
    }
   ],
   "source": [
    "boostingModel = GradientBoostingClassifier(n_estimators=100,random_state=42*3)\n",
    "boostingModel.fit(X_train,y_train)"
   ]
  },
  {
   "cell_type": "code",
   "execution_count": 83,
   "metadata": {},
   "outputs": [
    {
     "name": "stdout",
     "output_type": "stream",
     "text": [
      "Test Accuracy:  0.8571428571428571\n"
     ]
    }
   ],
   "source": [
    "y_boost = boostingModel.predict(X_test)\n",
    "print('Test Accuracy: ', accuracy_score(y_test,y_boost))"
   ]
  },
  {
   "cell_type": "markdown",
   "metadata": {},
   "source": [
    "De nuevo, sin optimizar hiperparámetros ya es mucho mejor que el árbol simple; ligeramente mejor que el bagging; pero ligeramente peor que el random forest."
   ]
  },
  {
   "cell_type": "markdown",
   "metadata": {},
   "source": [
    "### e) Obtenga las matrices de confusión y curva ROC"
   ]
  },
  {
   "cell_type": "markdown",
   "metadata": {},
   "source": [
    "En la redacción queda algo ambiguo, pero vamos a hacerlo para el árbol optimizado y cada uno de los modelos que acabamos de ajustar. "
   ]
  },
  {
   "cell_type": "markdown",
   "metadata": {},
   "source": [
    "#### Iniciamos con las matrices de confusión: "
   ]
  },
  {
   "cell_type": "code",
   "execution_count": 87,
   "metadata": {},
   "outputs": [],
   "source": [
    "from sklearn.metrics import plot_confusion_matrix"
   ]
  },
  {
   "cell_type": "markdown",
   "metadata": {},
   "source": [
    "**Matriz de confusión del árbol**"
   ]
  },
  {
   "cell_type": "code",
   "execution_count": 89,
   "metadata": {},
   "outputs": [
    {
     "data": {
      "text/plain": [
       "array([[0.88888889, 0.30555556],\n",
       "       [0.11111111, 0.69444444]])"
      ]
     },
     "execution_count": 89,
     "metadata": {},
     "output_type": "execute_result"
    },
    {
     "data": {
      "image/png": "[encoded data removed]",
      "text/plain": [
       "<Figure size 432x288 with 2 Axes>"
      ]
     },
     "metadata": {
      "needs_background": "light"
     },
     "output_type": "display_data"
    }
   ],
   "source": [
    "disp = plot_confusion_matrix(tr, X_test, y_test, normalize=\"pred\")\n",
    "disp.ax_.set_title(\"Matriz de Confusión del modelo de ábol\")\n",
    "disp.confusion_matrix"
   ]
  },
  {
   "cell_type": "markdown",
   "metadata": {},
   "source": [
    "**Matriz de confusión del RandomForest**"
   ]
  },
  {
   "cell_type": "code",
   "execution_count": 90,
   "metadata": {},
   "outputs": [
    {
     "data": {
      "text/plain": [
       "array([[0.90909091, 0.16666667],\n",
       "       [0.09090909, 0.83333333]])"
      ]
     },
     "execution_count": 90,
     "metadata": {},
     "output_type": "execute_result"
    },
    {
     "data": {
      "image/png": "[encoded data removed]",
      "text/plain": [
       "<Figure size 432x288 with 2 Axes>"
      ]
     },
     "metadata": {
      "needs_background": "light"
     },
     "output_type": "display_data"
    }
   ],
   "source": [
    "disp = plot_confusion_matrix(randomForest, X_test, y_test, normalize=\"pred\")\n",
    "disp.ax_.set_title(\"Matriz de Confusión del modelo del random forest\")\n",
    "disp.confusion_matrix"
   ]
  },
  {
   "cell_type": "markdown",
   "metadata": {},
   "source": [
    "**Matriz de confusión del bagging**"
   ]
  },
  {
   "cell_type": "code",
   "execution_count": 91,
   "metadata": {},
   "outputs": [
    {
     "data": {
      "text/plain": [
       "array([[0.85714286, 0.17857143],\n",
       "       [0.14285714, 0.82142857]])"
      ]
     },
     "execution_count": 91,
     "metadata": {},
     "output_type": "execute_result"
    },
    {
     "data": {
      "image/png": "[encoded data removed]",
      "text/plain": [
       "<Figure size 432x288 with 2 Axes>"
      ]
     },
     "metadata": {
      "needs_background": "light"
     },
     "output_type": "display_data"
    }
   ],
   "source": [
    "disp = plot_confusion_matrix(baggingModel, X_test, y_test, normalize=\"pred\")\n",
    "disp.ax_.set_title(\"Matriz de Confusión del modelo del bagging\")\n",
    "disp.confusion_matrix"
   ]
  },
  {
   "cell_type": "markdown",
   "metadata": {},
   "source": [
    "**Matriz de confusión del Boosting**"
   ]
  },
  {
   "cell_type": "code",
   "execution_count": 92,
   "metadata": {},
   "outputs": [
    {
     "data": {
      "text/plain": [
       "array([[0.88235294, 0.17241379],\n",
       "       [0.11764706, 0.82758621]])"
      ]
     },
     "execution_count": 92,
     "metadata": {},
     "output_type": "execute_result"
    },
    {
     "data": {
      "image/png": "[encoded data removed]",
      "text/plain": [
       "<Figure size 432x288 with 2 Axes>"
      ]
     },
     "metadata": {
      "needs_background": "light"
     },
     "output_type": "display_data"
    }
   ],
   "source": [
    "disp = plot_confusion_matrix(boostingModel, X_test, y_test, normalize=\"pred\")\n",
    "disp.ax_.set_title(\"Matriz de Confusión del modelo de boosting\")\n",
    "disp.confusion_matrix"
   ]
  },
  {
   "cell_type": "markdown",
   "metadata": {},
   "source": [
    "Al analizar las matrices de confusión nos podemos dar cuenta de un par de cosas:\n",
    "* Nuestro árbol es malo clasificando las rocas, pues clasifica muchas instancias de metal como roca.\n",
    "* Los demás clasificadores mejoran mucho en este rubro, pero se mantiene como el punto donde más fallan (si pensáramos Metal como Verdadero y Roca como falso, los modelos tienen la falla más grande en falsos negativos).\n",
    "* Aunque no es por mucho, ya que tanto las rocas clasificadas como metal y viceversa se mantienen alrededor del 15%, con excepción del RandomForest, que logró ser el mejor clasificador reduciendo el número de rocas clasificadas como metal a menos del 10%."
   ]
  },
  {
   "cell_type": "markdown",
   "metadata": {},
   "source": [
    "#### Finalmente, graficamos las curvas ROC."
   ]
  },
  {
   "cell_type": "code",
   "execution_count": 117,
   "metadata": {},
   "outputs": [],
   "source": [
    "def transform_metal_roca(y_pred):\n",
    "    tr = []\n",
    "    for y in y_pred:\n",
    "        if y=='M':\n",
    "            tr.append(1)\n",
    "        elif y=='R':\n",
    "            tr.append(0)\n",
    "    return tr"
   ]
  },
  {
   "cell_type": "code",
   "execution_count": 118,
   "metadata": {},
   "outputs": [],
   "source": [
    "para_titulos = [\"del modelo de árbol\", \"del modelo de RandomForest\",\n",
    "                \"del modelo de Bagging\", \"del modelo de Boosting\"]"
   ]
  },
  {
   "cell_type": "code",
   "execution_count": 137,
   "metadata": {},
   "outputs": [
    {
     "data": {
      "image/png": "[encoded data removed]",
      "text/plain": [
       "<Figure size 720x720 with 4 Axes>"
      ]
     },
     "metadata": {
      "needs_background": "light"
     },
     "output_type": "display_data"
    }
   ],
   "source": [
    "y_tr = tr.predict(X_test)\n",
    "all_m = [tr, randomForest, baggingModel, boostingModel]\n",
    "\n",
    "fig = plt.figure(figsize=(10,10))\n",
    "aucs = []\n",
    "\n",
    "for m,num in zip(all_m, range(0,4)):\n",
    "    # Obtenemos las probabilidades. En el caso del árbol \n",
    "    # la gráfica no será muy buena pues se obtendrá sólo 0 o 1.\n",
    "    y_pred = m.predict_proba(X_test)\n",
    "    y_t = transform_metal_roca(y_test)\n",
    "    fpr, tpr, threshold = sklearn.metrics.roc_curve(y_t, y_pred[:,0])\n",
    "    roc_auc = sklearn.metrics.auc(fpr, tpr)\n",
    "    aucs.append(roc_auc)\n",
    "    # Añadimos el subplot\n",
    "    ax = fig.add_subplot(2,2,num+1)\n",
    "    # Graficamos la identidad\n",
    "    ax.plot([0, 1], [0, 1],'r--')\n",
    "    # Límites de los ejes\n",
    "    ax.set_xlim([0.0, 1.0])\n",
    "    ax.set_ylim([0.0, 1.05])\n",
    "    ax.plot(fpr, tpr, label=f'Curva ROC (area = %0.2f)' % roc_auc)\n",
    "    \n",
    "    ax.set_xlabel('Tasa de falsos positivos')\n",
    "    ax.set_ylabel('Tasa de verdaderos positivos')\n",
    "    ax.set_title(f\"curva ROC {para_titulos[num]}\")\n",
    "    ax.legend(loc=\"lower right\")\n",
    "\n",
    "plt.tight_layout()\n",
    "plt.show()"
   ]
  },
  {
   "cell_type": "code",
   "execution_count": 143,
   "metadata": {},
   "outputs": [
    {
     "name": "stdout",
     "output_type": "stream",
     "text": [
      "AUC de la curva ROC de    del modelo de árbol : \t 0.7892857142857144\n",
      "AUC de la curva ROC de    del modelo de RandomForest : \t 0.939795918367347\n",
      "AUC de la curva ROC de    del modelo de Bagging : \t 0.8984693877551021\n",
      "AUC de la curva ROC de    del modelo de Boosting : \t 0.9224489795918368\n"
     ]
    }
   ],
   "source": [
    "# Imprimimos el área bajo la curva:\n",
    "for i in range(0,4):\n",
    "    print(\"AUC de la curva ROC de   \", para_titulos[i], \": \\t\", aucs[i])"
   ]
  }
 ],
 "metadata": {
  "kernelspec": {
   "display_name": "Python 3",
   "language": "python",
   "name": "python3"
  },
  "language_info": {
   "codemirror_mode": {
    "name": "ipython",
    "version": 3
   },
   "file_extension": ".py",
   "mimetype": "text/x-python",
   "name": "python",
   "nbconvert_exporter": "python",
   "pygments_lexer": "ipython3",
   "version": "3.8.5"
  }
 },
 "nbformat": 4,
 "nbformat_minor": 4
}
